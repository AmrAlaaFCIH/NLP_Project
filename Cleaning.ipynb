{
 "cells": [
  {
   "cell_type": "code",
   "execution_count": 1,
   "metadata": {
    "collapsed": true
   },
   "outputs": [],
   "source": [
    "import string\n",
    "import pandas as pd\n",
    "import numpy as np\n",
    "import re\n",
    "import matplotlib.pyplot as plt\n",
    "import seaborn as sns\n",
    "pd.options.mode.chained_assignment = None"
   ]
  },
  {
   "cell_type": "code",
   "execution_count": 2,
   "outputs": [
    {
     "data": {
      "text/plain": "(5991, 8)"
     },
     "metadata": {},
     "output_type": "display_data"
    },
    {
     "data": {
      "text/plain": "              Author                     Book_Name   Book_Category  \\\n0  الكاتب محمود سالم     كتاب لغز القبر الملكي PDF  روايات بوليسية   \n1  الكاتب محمود سالم    كتاب لغز الكوخ المحترق PDF  روايات بوليسية   \n2  الكاتب محمود سالم       كتاب لغز اللص الشبح PDF  روايات بوليسية   \n3  الكاتب محمود سالم  كتاب لغز المدينة العائمة PDF  روايات بوليسية   \n4  الكاتب محمود سالم    كتاب لغز المنزل رقم 98 PDF  روايات بوليسية   \n\n                                            Book_url Publishing_house  \\\n0  https://www.arab-books.com/books/%d9%83%d8%aa%...     مؤسسة هنداوي   \n1  https://www.arab-books.com/books/%d9%83%d8%aa%...     مؤسسة هنداوي   \n2  https://www.arab-books.com/books/%d9%83%d8%aa%...     مؤسسة هنداوي   \n3  https://www.arab-books.com/books/%d9%83%d8%aa%...     مؤسسة هنداوي   \n4  https://www.arab-books.com/books/%d9%83%d8%aa%...     مؤسسة هنداوي   \n\n    Book_size Book_pages Quotation  \n0  2 ميغابايت    52 صفحة       NaN  \n1  2 ميغابايت    56 صفحة       NaN  \n2  2 ميغابايت    48 صفحة       NaN  \n3  2 ميغابايت    54 صفحة       NaN  \n4  2 ميغابايت    48 صفحة       NaN  ",
      "text/html": "<div>\n<style scoped>\n    .dataframe tbody tr th:only-of-type {\n        vertical-align: middle;\n    }\n\n    .dataframe tbody tr th {\n        vertical-align: top;\n    }\n\n    .dataframe thead th {\n        text-align: right;\n    }\n</style>\n<table border=\"1\" class=\"dataframe\">\n  <thead>\n    <tr style=\"text-align: right;\">\n      <th></th>\n      <th>Author</th>\n      <th>Book_Name</th>\n      <th>Book_Category</th>\n      <th>Book_url</th>\n      <th>Publishing_house</th>\n      <th>Book_size</th>\n      <th>Book_pages</th>\n      <th>Quotation</th>\n    </tr>\n  </thead>\n  <tbody>\n    <tr>\n      <th>0</th>\n      <td>الكاتب محمود سالم</td>\n      <td>كتاب لغز القبر الملكي PDF</td>\n      <td>روايات بوليسية</td>\n      <td>https://www.arab-books.com/books/%d9%83%d8%aa%...</td>\n      <td>مؤسسة هنداوي</td>\n      <td>2 ميغابايت</td>\n      <td>52 صفحة</td>\n      <td>NaN</td>\n    </tr>\n    <tr>\n      <th>1</th>\n      <td>الكاتب محمود سالم</td>\n      <td>كتاب لغز الكوخ المحترق PDF</td>\n      <td>روايات بوليسية</td>\n      <td>https://www.arab-books.com/books/%d9%83%d8%aa%...</td>\n      <td>مؤسسة هنداوي</td>\n      <td>2 ميغابايت</td>\n      <td>56 صفحة</td>\n      <td>NaN</td>\n    </tr>\n    <tr>\n      <th>2</th>\n      <td>الكاتب محمود سالم</td>\n      <td>كتاب لغز اللص الشبح PDF</td>\n      <td>روايات بوليسية</td>\n      <td>https://www.arab-books.com/books/%d9%83%d8%aa%...</td>\n      <td>مؤسسة هنداوي</td>\n      <td>2 ميغابايت</td>\n      <td>48 صفحة</td>\n      <td>NaN</td>\n    </tr>\n    <tr>\n      <th>3</th>\n      <td>الكاتب محمود سالم</td>\n      <td>كتاب لغز المدينة العائمة PDF</td>\n      <td>روايات بوليسية</td>\n      <td>https://www.arab-books.com/books/%d9%83%d8%aa%...</td>\n      <td>مؤسسة هنداوي</td>\n      <td>2 ميغابايت</td>\n      <td>54 صفحة</td>\n      <td>NaN</td>\n    </tr>\n    <tr>\n      <th>4</th>\n      <td>الكاتب محمود سالم</td>\n      <td>كتاب لغز المنزل رقم 98 PDF</td>\n      <td>روايات بوليسية</td>\n      <td>https://www.arab-books.com/books/%d9%83%d8%aa%...</td>\n      <td>مؤسسة هنداوي</td>\n      <td>2 ميغابايت</td>\n      <td>48 صفحة</td>\n      <td>NaN</td>\n    </tr>\n  </tbody>\n</table>\n</div>"
     },
     "execution_count": 2,
     "metadata": {},
     "output_type": "execute_result"
    }
   ],
   "source": [
    "df=pd.read_csv('Extracted_data.csv')\n",
    "display(df.shape)\n",
    "df.head()"
   ],
   "metadata": {
    "collapsed": false,
    "pycharm": {
     "name": "#%%\n"
    }
   }
  },
  {
   "cell_type": "code",
   "execution_count": 3,
   "outputs": [
    {
     "data": {
      "text/plain": "Author               251\nBook_Name              4\nBook_Category         59\nBook_url               4\nPublishing_house     702\nBook_size              5\nBook_pages             5\nQuotation           5801\ndtype: int64"
     },
     "execution_count": 3,
     "metadata": {},
     "output_type": "execute_result"
    }
   ],
   "source": [
    "df.isna().sum()"
   ],
   "metadata": {
    "collapsed": false,
    "pycharm": {
     "name": "#%%\n"
    }
   }
  },
  {
   "cell_type": "code",
   "execution_count": 4,
   "outputs": [
    {
     "name": "stdout",
     "output_type": "stream",
     "text": [
      "Quotation Column is 96.82857619762977% empty\n"
     ]
    }
   ],
   "source": [
    "quotation_null=df[\"Quotation\"].isna().sum() / df.shape[0] *100\n",
    "print(f\"Quotation Column is {quotation_null}% empty\")\n",
    "# we will ignore it for now"
   ],
   "metadata": {
    "collapsed": false,
    "pycharm": {
     "name": "#%%\n"
    }
   }
  },
  {
   "cell_type": "code",
   "execution_count": 5,
   "outputs": [
    {
     "data": {
      "text/plain": "                      Author                                Book_Name  \\\n3314  الكاتب ابراهيم السكران  كتاب التعبد لله بتقبيل أقدام الولاة PDF   \n3967     كتب الامام الالباني                                      NaN   \n4012                     NaN                                      NaN   \n4024     الكاتب توفيق الحكيم                                      NaN   \n4045                     NaN                                      NaN   \n\n     Book_Category                                           Book_url  \\\n3314           NaN  https://www.arab-books.com/books/%d9%83%d8%aa%...   \n3967           NaN                                                NaN   \n4012           NaN                                                NaN   \n4024           NaN                                                NaN   \n4045           NaN                                                NaN   \n\n     Publishing_house Book_size Book_pages Quotation  \n3314              NaN       NaN        NaN       NaN  \n3967              NaN       NaN        NaN       NaN  \n4012              NaN       NaN        NaN       NaN  \n4024              NaN       NaN        NaN       NaN  \n4045              NaN       NaN        NaN       NaN  ",
      "text/html": "<div>\n<style scoped>\n    .dataframe tbody tr th:only-of-type {\n        vertical-align: middle;\n    }\n\n    .dataframe tbody tr th {\n        vertical-align: top;\n    }\n\n    .dataframe thead th {\n        text-align: right;\n    }\n</style>\n<table border=\"1\" class=\"dataframe\">\n  <thead>\n    <tr style=\"text-align: right;\">\n      <th></th>\n      <th>Author</th>\n      <th>Book_Name</th>\n      <th>Book_Category</th>\n      <th>Book_url</th>\n      <th>Publishing_house</th>\n      <th>Book_size</th>\n      <th>Book_pages</th>\n      <th>Quotation</th>\n    </tr>\n  </thead>\n  <tbody>\n    <tr>\n      <th>3314</th>\n      <td>الكاتب ابراهيم السكران</td>\n      <td>كتاب التعبد لله بتقبيل أقدام الولاة PDF</td>\n      <td>NaN</td>\n      <td>https://www.arab-books.com/books/%d9%83%d8%aa%...</td>\n      <td>NaN</td>\n      <td>NaN</td>\n      <td>NaN</td>\n      <td>NaN</td>\n    </tr>\n    <tr>\n      <th>3967</th>\n      <td>كتب الامام الالباني</td>\n      <td>NaN</td>\n      <td>NaN</td>\n      <td>NaN</td>\n      <td>NaN</td>\n      <td>NaN</td>\n      <td>NaN</td>\n      <td>NaN</td>\n    </tr>\n    <tr>\n      <th>4012</th>\n      <td>NaN</td>\n      <td>NaN</td>\n      <td>NaN</td>\n      <td>NaN</td>\n      <td>NaN</td>\n      <td>NaN</td>\n      <td>NaN</td>\n      <td>NaN</td>\n    </tr>\n    <tr>\n      <th>4024</th>\n      <td>الكاتب توفيق الحكيم</td>\n      <td>NaN</td>\n      <td>NaN</td>\n      <td>NaN</td>\n      <td>NaN</td>\n      <td>NaN</td>\n      <td>NaN</td>\n      <td>NaN</td>\n    </tr>\n    <tr>\n      <th>4045</th>\n      <td>NaN</td>\n      <td>NaN</td>\n      <td>NaN</td>\n      <td>NaN</td>\n      <td>NaN</td>\n      <td>NaN</td>\n      <td>NaN</td>\n      <td>NaN</td>\n    </tr>\n  </tbody>\n</table>\n</div>"
     },
     "execution_count": 5,
     "metadata": {},
     "output_type": "execute_result"
    }
   ],
   "source": [
    "#check other null data\n",
    "df[df[\"Book_pages\"].isna() | df[\"Book_size\"].isna() | df[\"Book_url\"].isna()]"
   ],
   "metadata": {
    "collapsed": false,
    "pycharm": {
     "name": "#%%\n"
    }
   }
  },
  {
   "cell_type": "code",
   "execution_count": 6,
   "outputs": [
    {
     "data": {
      "text/plain": "Author               249\nBook_Name              0\nBook_Category         54\nBook_url               0\nPublishing_house     697\nBook_size              0\nBook_pages             0\nQuotation           5796\ndtype: int64"
     },
     "execution_count": 6,
     "metadata": {},
     "output_type": "execute_result"
    }
   ],
   "source": [
    "df=df[~(df[\"Book_pages\"].isna() | df[\"Book_size\"].isna() | df[\"Book_url\"].isna())]\n",
    "df.isna().sum()"
   ],
   "metadata": {
    "collapsed": false,
    "pycharm": {
     "name": "#%%\n"
    }
   }
  },
  {
   "cell_type": "code",
   "execution_count": 7,
   "outputs": [
    {
     "data": {
      "text/plain": "                    Author                                          Book_Name  \\\n0        الكاتب محمود سالم                          كتاب لغز القبر الملكي PDF   \n1        الكاتب محمود سالم                         كتاب لغز الكوخ المحترق PDF   \n2        الكاتب محمود سالم                            كتاب لغز اللص الشبح PDF   \n3        الكاتب محمود سالم                       كتاب لغز المدينة العائمة PDF   \n4        الكاتب محمود سالم                         كتاب لغز المنزل رقم 98 PDF   \n...                    ...                                                ...   \n5986    الكاتب فرانز كافكا                      رواية التحول فرانتس كافكا pdf   \n5987  الشيخ عبدالوهاب خلاف    كتاب احكام الاحوال الشخصية في الشريعة الاسلامية   \n5988           الله عز وجل  Corán traducido al español PDF – القران نسخة ا...   \n5989           الله عز وجل  القران الكريم باللغة الانجليزية -Quran with En...   \n5990           الله عز وجل                         Le Saint Coran en français   \n\n                       Book_Category  \\\n0                     روايات بوليسية   \n1                     روايات بوليسية   \n2                     روايات بوليسية   \n3                     روايات بوليسية   \n4                     روايات بوليسية   \n...                              ...   \n5986  كتب الروايات العالمية المترجمة   \n5987                  كتب أصول الفقه   \n5988                   القرآن الكريم   \n5989                   القرآن الكريم   \n5990                   القرآن الكريم   \n\n                                               Book_url   Publishing_house  \\\n0     https://www.arab-books.com/books/%d9%83%d8%aa%...       مؤسسة هنداوي   \n1     https://www.arab-books.com/books/%d9%83%d8%aa%...       مؤسسة هنداوي   \n2     https://www.arab-books.com/books/%d9%83%d8%aa%...       مؤسسة هنداوي   \n3     https://www.arab-books.com/books/%d9%83%d8%aa%...       مؤسسة هنداوي   \n4     https://www.arab-books.com/books/%d9%83%d8%aa%...       مؤسسة هنداوي   \n...                                                 ...                ...   \n5986  https://www.arab-books.com/books/%d8%b1%d9%88%...      منشورات الجمل   \n5987  https://www.arab-books.com/books/%d9%83%d8%aa%...  دار الكتب العلمية   \n5988  https://www.arab-books.com/books/coran-traduci...     محمد رسول الله   \n5989  https://www.arab-books.com/books/%d8%a7%d9%84%...     محمد رسول الله   \n5990  https://www.arab-books.com/books/le-saint-cora...                NaN   \n\n          Book_size Book_pages Quotation  \n0        2 ميغابايت    52 صفحة       NaN  \n1        2 ميغابايت    56 صفحة       NaN  \n2        2 ميغابايت    48 صفحة       NaN  \n3        2 ميغابايت    54 صفحة       NaN  \n4        2 ميغابايت    48 صفحة       NaN  \n...             ...        ...       ...  \n5986  1.64 ميغابايت   106 صفحة       NaN  \n5987    14 ميغابايت   289 صفحة       NaN  \n5988    26 ميغابايت  1088 صفحة       NaN  \n5989    30 ميغابايت   978 صفحة       NaN  \n5990    31 ميغابايت  1235 صفحة       NaN  \n\n[5986 rows x 8 columns]",
      "text/html": "<div>\n<style scoped>\n    .dataframe tbody tr th:only-of-type {\n        vertical-align: middle;\n    }\n\n    .dataframe tbody tr th {\n        vertical-align: top;\n    }\n\n    .dataframe thead th {\n        text-align: right;\n    }\n</style>\n<table border=\"1\" class=\"dataframe\">\n  <thead>\n    <tr style=\"text-align: right;\">\n      <th></th>\n      <th>Author</th>\n      <th>Book_Name</th>\n      <th>Book_Category</th>\n      <th>Book_url</th>\n      <th>Publishing_house</th>\n      <th>Book_size</th>\n      <th>Book_pages</th>\n      <th>Quotation</th>\n    </tr>\n  </thead>\n  <tbody>\n    <tr>\n      <th>0</th>\n      <td>الكاتب محمود سالم</td>\n      <td>كتاب لغز القبر الملكي PDF</td>\n      <td>روايات بوليسية</td>\n      <td>https://www.arab-books.com/books/%d9%83%d8%aa%...</td>\n      <td>مؤسسة هنداوي</td>\n      <td>2 ميغابايت</td>\n      <td>52 صفحة</td>\n      <td>NaN</td>\n    </tr>\n    <tr>\n      <th>1</th>\n      <td>الكاتب محمود سالم</td>\n      <td>كتاب لغز الكوخ المحترق PDF</td>\n      <td>روايات بوليسية</td>\n      <td>https://www.arab-books.com/books/%d9%83%d8%aa%...</td>\n      <td>مؤسسة هنداوي</td>\n      <td>2 ميغابايت</td>\n      <td>56 صفحة</td>\n      <td>NaN</td>\n    </tr>\n    <tr>\n      <th>2</th>\n      <td>الكاتب محمود سالم</td>\n      <td>كتاب لغز اللص الشبح PDF</td>\n      <td>روايات بوليسية</td>\n      <td>https://www.arab-books.com/books/%d9%83%d8%aa%...</td>\n      <td>مؤسسة هنداوي</td>\n      <td>2 ميغابايت</td>\n      <td>48 صفحة</td>\n      <td>NaN</td>\n    </tr>\n    <tr>\n      <th>3</th>\n      <td>الكاتب محمود سالم</td>\n      <td>كتاب لغز المدينة العائمة PDF</td>\n      <td>روايات بوليسية</td>\n      <td>https://www.arab-books.com/books/%d9%83%d8%aa%...</td>\n      <td>مؤسسة هنداوي</td>\n      <td>2 ميغابايت</td>\n      <td>54 صفحة</td>\n      <td>NaN</td>\n    </tr>\n    <tr>\n      <th>4</th>\n      <td>الكاتب محمود سالم</td>\n      <td>كتاب لغز المنزل رقم 98 PDF</td>\n      <td>روايات بوليسية</td>\n      <td>https://www.arab-books.com/books/%d9%83%d8%aa%...</td>\n      <td>مؤسسة هنداوي</td>\n      <td>2 ميغابايت</td>\n      <td>48 صفحة</td>\n      <td>NaN</td>\n    </tr>\n    <tr>\n      <th>...</th>\n      <td>...</td>\n      <td>...</td>\n      <td>...</td>\n      <td>...</td>\n      <td>...</td>\n      <td>...</td>\n      <td>...</td>\n      <td>...</td>\n    </tr>\n    <tr>\n      <th>5986</th>\n      <td>الكاتب فرانز كافكا</td>\n      <td>رواية التحول فرانتس كافكا pdf</td>\n      <td>كتب الروايات العالمية المترجمة</td>\n      <td>https://www.arab-books.com/books/%d8%b1%d9%88%...</td>\n      <td>منشورات الجمل</td>\n      <td>1.64 ميغابايت</td>\n      <td>106 صفحة</td>\n      <td>NaN</td>\n    </tr>\n    <tr>\n      <th>5987</th>\n      <td>الشيخ عبدالوهاب خلاف</td>\n      <td>كتاب احكام الاحوال الشخصية في الشريعة الاسلامية</td>\n      <td>كتب أصول الفقه</td>\n      <td>https://www.arab-books.com/books/%d9%83%d8%aa%...</td>\n      <td>دار الكتب العلمية</td>\n      <td>14 ميغابايت</td>\n      <td>289 صفحة</td>\n      <td>NaN</td>\n    </tr>\n    <tr>\n      <th>5988</th>\n      <td>الله عز وجل</td>\n      <td>Corán traducido al español PDF – القران نسخة ا...</td>\n      <td>القرآن الكريم</td>\n      <td>https://www.arab-books.com/books/coran-traduci...</td>\n      <td>محمد رسول الله</td>\n      <td>26 ميغابايت</td>\n      <td>1088 صفحة</td>\n      <td>NaN</td>\n    </tr>\n    <tr>\n      <th>5989</th>\n      <td>الله عز وجل</td>\n      <td>القران الكريم باللغة الانجليزية -Quran with En...</td>\n      <td>القرآن الكريم</td>\n      <td>https://www.arab-books.com/books/%d8%a7%d9%84%...</td>\n      <td>محمد رسول الله</td>\n      <td>30 ميغابايت</td>\n      <td>978 صفحة</td>\n      <td>NaN</td>\n    </tr>\n    <tr>\n      <th>5990</th>\n      <td>الله عز وجل</td>\n      <td>Le Saint Coran en français</td>\n      <td>القرآن الكريم</td>\n      <td>https://www.arab-books.com/books/le-saint-cora...</td>\n      <td>NaN</td>\n      <td>31 ميغابايت</td>\n      <td>1235 صفحة</td>\n      <td>NaN</td>\n    </tr>\n  </tbody>\n</table>\n<p>5986 rows × 8 columns</p>\n</div>"
     },
     "execution_count": 7,
     "metadata": {},
     "output_type": "execute_result"
    }
   ],
   "source": [
    "# we will use the books with missing category later to test our model, so we will leave it for now and start cleaning text data\n",
    "df"
   ],
   "metadata": {
    "collapsed": false,
    "pycharm": {
     "name": "#%%\n"
    }
   }
  },
  {
   "cell_type": "code",
   "execution_count": 8,
   "outputs": [
    {
     "data": {
      "text/plain": "              Author                     Book_Name   Book_Category  \\\n0  الكاتب محمود سالم     كتاب لغز القبر الملكي PDF  روايات بوليسية   \n1  الكاتب محمود سالم    كتاب لغز الكوخ المحترق PDF  روايات بوليسية   \n2  الكاتب محمود سالم       كتاب لغز اللص الشبح PDF  روايات بوليسية   \n3  الكاتب محمود سالم  كتاب لغز المدينة العائمة PDF  روايات بوليسية   \n4  الكاتب محمود سالم    كتاب لغز المنزل رقم 98 PDF  روايات بوليسية   \n\n                                            Book_url Publishing_house  \\\n0  https://www.arab-books.com/books/%d9%83%d8%aa%...     مؤسسة هنداوي   \n1  https://www.arab-books.com/books/%d9%83%d8%aa%...     مؤسسة هنداوي   \n2  https://www.arab-books.com/books/%d9%83%d8%aa%...     مؤسسة هنداوي   \n3  https://www.arab-books.com/books/%d9%83%d8%aa%...     مؤسسة هنداوي   \n4  https://www.arab-books.com/books/%d9%83%d8%aa%...     مؤسسة هنداوي   \n\n  Book_size_MB Book_pages Quotation  \n0            2    52 صفحة       NaN  \n1            2    56 صفحة       NaN  \n2            2    48 صفحة       NaN  \n3            2    54 صفحة       NaN  \n4            2    48 صفحة       NaN  ",
      "text/html": "<div>\n<style scoped>\n    .dataframe tbody tr th:only-of-type {\n        vertical-align: middle;\n    }\n\n    .dataframe tbody tr th {\n        vertical-align: top;\n    }\n\n    .dataframe thead th {\n        text-align: right;\n    }\n</style>\n<table border=\"1\" class=\"dataframe\">\n  <thead>\n    <tr style=\"text-align: right;\">\n      <th></th>\n      <th>Author</th>\n      <th>Book_Name</th>\n      <th>Book_Category</th>\n      <th>Book_url</th>\n      <th>Publishing_house</th>\n      <th>Book_size_MB</th>\n      <th>Book_pages</th>\n      <th>Quotation</th>\n    </tr>\n  </thead>\n  <tbody>\n    <tr>\n      <th>0</th>\n      <td>الكاتب محمود سالم</td>\n      <td>كتاب لغز القبر الملكي PDF</td>\n      <td>روايات بوليسية</td>\n      <td>https://www.arab-books.com/books/%d9%83%d8%aa%...</td>\n      <td>مؤسسة هنداوي</td>\n      <td>2</td>\n      <td>52 صفحة</td>\n      <td>NaN</td>\n    </tr>\n    <tr>\n      <th>1</th>\n      <td>الكاتب محمود سالم</td>\n      <td>كتاب لغز الكوخ المحترق PDF</td>\n      <td>روايات بوليسية</td>\n      <td>https://www.arab-books.com/books/%d9%83%d8%aa%...</td>\n      <td>مؤسسة هنداوي</td>\n      <td>2</td>\n      <td>56 صفحة</td>\n      <td>NaN</td>\n    </tr>\n    <tr>\n      <th>2</th>\n      <td>الكاتب محمود سالم</td>\n      <td>كتاب لغز اللص الشبح PDF</td>\n      <td>روايات بوليسية</td>\n      <td>https://www.arab-books.com/books/%d9%83%d8%aa%...</td>\n      <td>مؤسسة هنداوي</td>\n      <td>2</td>\n      <td>48 صفحة</td>\n      <td>NaN</td>\n    </tr>\n    <tr>\n      <th>3</th>\n      <td>الكاتب محمود سالم</td>\n      <td>كتاب لغز المدينة العائمة PDF</td>\n      <td>روايات بوليسية</td>\n      <td>https://www.arab-books.com/books/%d9%83%d8%aa%...</td>\n      <td>مؤسسة هنداوي</td>\n      <td>2</td>\n      <td>54 صفحة</td>\n      <td>NaN</td>\n    </tr>\n    <tr>\n      <th>4</th>\n      <td>الكاتب محمود سالم</td>\n      <td>كتاب لغز المنزل رقم 98 PDF</td>\n      <td>روايات بوليسية</td>\n      <td>https://www.arab-books.com/books/%d9%83%d8%aa%...</td>\n      <td>مؤسسة هنداوي</td>\n      <td>2</td>\n      <td>48 صفحة</td>\n      <td>NaN</td>\n    </tr>\n  </tbody>\n</table>\n</div>"
     },
     "execution_count": 8,
     "metadata": {},
     "output_type": "execute_result"
    }
   ],
   "source": [
    "df[\"Book_size\"]=df[\"Book_size\"].str.replace(r'[^\\d.]','',regex=True)\n",
    "df.rename(columns={'Book_size':'Book_size_MB'},inplace=True)\n",
    "df.head()"
   ],
   "metadata": {
    "collapsed": false,
    "pycharm": {
     "name": "#%%\n"
    }
   }
  },
  {
   "cell_type": "code",
   "execution_count": 9,
   "outputs": [
    {
     "data": {
      "text/plain": "              Author                     Book_Name   Book_Category  \\\n0  الكاتب محمود سالم     كتاب لغز القبر الملكي PDF  روايات بوليسية   \n1  الكاتب محمود سالم    كتاب لغز الكوخ المحترق PDF  روايات بوليسية   \n2  الكاتب محمود سالم       كتاب لغز اللص الشبح PDF  روايات بوليسية   \n3  الكاتب محمود سالم  كتاب لغز المدينة العائمة PDF  روايات بوليسية   \n4  الكاتب محمود سالم    كتاب لغز المنزل رقم 98 PDF  روايات بوليسية   \n\n                                            Book_url Publishing_house  \\\n0  https://www.arab-books.com/books/%d9%83%d8%aa%...     مؤسسة هنداوي   \n1  https://www.arab-books.com/books/%d9%83%d8%aa%...     مؤسسة هنداوي   \n2  https://www.arab-books.com/books/%d9%83%d8%aa%...     مؤسسة هنداوي   \n3  https://www.arab-books.com/books/%d9%83%d8%aa%...     مؤسسة هنداوي   \n4  https://www.arab-books.com/books/%d9%83%d8%aa%...     مؤسسة هنداوي   \n\n  Book_size_MB Book_pages Quotation  \n0            2         52       NaN  \n1            2         56       NaN  \n2            2         48       NaN  \n3            2         54       NaN  \n4            2         48       NaN  ",
      "text/html": "<div>\n<style scoped>\n    .dataframe tbody tr th:only-of-type {\n        vertical-align: middle;\n    }\n\n    .dataframe tbody tr th {\n        vertical-align: top;\n    }\n\n    .dataframe thead th {\n        text-align: right;\n    }\n</style>\n<table border=\"1\" class=\"dataframe\">\n  <thead>\n    <tr style=\"text-align: right;\">\n      <th></th>\n      <th>Author</th>\n      <th>Book_Name</th>\n      <th>Book_Category</th>\n      <th>Book_url</th>\n      <th>Publishing_house</th>\n      <th>Book_size_MB</th>\n      <th>Book_pages</th>\n      <th>Quotation</th>\n    </tr>\n  </thead>\n  <tbody>\n    <tr>\n      <th>0</th>\n      <td>الكاتب محمود سالم</td>\n      <td>كتاب لغز القبر الملكي PDF</td>\n      <td>روايات بوليسية</td>\n      <td>https://www.arab-books.com/books/%d9%83%d8%aa%...</td>\n      <td>مؤسسة هنداوي</td>\n      <td>2</td>\n      <td>52</td>\n      <td>NaN</td>\n    </tr>\n    <tr>\n      <th>1</th>\n      <td>الكاتب محمود سالم</td>\n      <td>كتاب لغز الكوخ المحترق PDF</td>\n      <td>روايات بوليسية</td>\n      <td>https://www.arab-books.com/books/%d9%83%d8%aa%...</td>\n      <td>مؤسسة هنداوي</td>\n      <td>2</td>\n      <td>56</td>\n      <td>NaN</td>\n    </tr>\n    <tr>\n      <th>2</th>\n      <td>الكاتب محمود سالم</td>\n      <td>كتاب لغز اللص الشبح PDF</td>\n      <td>روايات بوليسية</td>\n      <td>https://www.arab-books.com/books/%d9%83%d8%aa%...</td>\n      <td>مؤسسة هنداوي</td>\n      <td>2</td>\n      <td>48</td>\n      <td>NaN</td>\n    </tr>\n    <tr>\n      <th>3</th>\n      <td>الكاتب محمود سالم</td>\n      <td>كتاب لغز المدينة العائمة PDF</td>\n      <td>روايات بوليسية</td>\n      <td>https://www.arab-books.com/books/%d9%83%d8%aa%...</td>\n      <td>مؤسسة هنداوي</td>\n      <td>2</td>\n      <td>54</td>\n      <td>NaN</td>\n    </tr>\n    <tr>\n      <th>4</th>\n      <td>الكاتب محمود سالم</td>\n      <td>كتاب لغز المنزل رقم 98 PDF</td>\n      <td>روايات بوليسية</td>\n      <td>https://www.arab-books.com/books/%d9%83%d8%aa%...</td>\n      <td>مؤسسة هنداوي</td>\n      <td>2</td>\n      <td>48</td>\n      <td>NaN</td>\n    </tr>\n  </tbody>\n</table>\n</div>"
     },
     "execution_count": 9,
     "metadata": {},
     "output_type": "execute_result"
    }
   ],
   "source": [
    "df[\"Book_pages\"]=df[\"Book_pages\"].str.replace(r'[^\\d]','',regex=True)\n",
    "df.head()"
   ],
   "metadata": {
    "collapsed": false,
    "pycharm": {
     "name": "#%%\n"
    }
   }
  },
  {
   "cell_type": "code",
   "execution_count": 10,
   "outputs": [
    {
     "data": {
      "text/plain": "                    Author                                          Book_Name  \\\n0        الكاتب محمود سالم                                   لغز القبر الملكي   \n1        الكاتب محمود سالم                                  لغز الكوخ المحترق   \n2        الكاتب محمود سالم                                     لغز اللص الشبح   \n3        الكاتب محمود سالم                                لغز المدينة العائمة   \n4        الكاتب محمود سالم                                  لغز المنزل رقم 98   \n...                    ...                                                ...   \n5986    الكاتب فرانز كافكا                          رواية التحول فرانتس كافكا   \n5987  الشيخ عبدالوهاب خلاف         احكام الاحوال الشخصية في الشريعة الاسلامية   \n5988           الله عز وجل   Corán traducido al español – القران نسخة اسبانية   \n5989           الله عز وجل  القران الكريم باللغة الانجليزية -Quran with En...   \n5990           الله عز وجل                         Le Saint Coran en français   \n\n                       Book_Category  \\\n0                     روايات بوليسية   \n1                     روايات بوليسية   \n2                     روايات بوليسية   \n3                     روايات بوليسية   \n4                     روايات بوليسية   \n...                              ...   \n5986  كتب الروايات العالمية المترجمة   \n5987                  كتب أصول الفقه   \n5988                   القرآن الكريم   \n5989                   القرآن الكريم   \n5990                   القرآن الكريم   \n\n                                               Book_url   Publishing_house  \\\n0     https://www.arab-books.com/books/%d9%83%d8%aa%...       مؤسسة هنداوي   \n1     https://www.arab-books.com/books/%d9%83%d8%aa%...       مؤسسة هنداوي   \n2     https://www.arab-books.com/books/%d9%83%d8%aa%...       مؤسسة هنداوي   \n3     https://www.arab-books.com/books/%d9%83%d8%aa%...       مؤسسة هنداوي   \n4     https://www.arab-books.com/books/%d9%83%d8%aa%...       مؤسسة هنداوي   \n...                                                 ...                ...   \n5986  https://www.arab-books.com/books/%d8%b1%d9%88%...      منشورات الجمل   \n5987  https://www.arab-books.com/books/%d9%83%d8%aa%...  دار الكتب العلمية   \n5988  https://www.arab-books.com/books/coran-traduci...     محمد رسول الله   \n5989  https://www.arab-books.com/books/%d8%a7%d9%84%...     محمد رسول الله   \n5990  https://www.arab-books.com/books/le-saint-cora...                NaN   \n\n     Book_size_MB Book_pages Quotation  \n0               2         52       NaN  \n1               2         56       NaN  \n2               2         48       NaN  \n3               2         54       NaN  \n4               2         48       NaN  \n...           ...        ...       ...  \n5986         1.64        106       NaN  \n5987           14        289       NaN  \n5988           26       1088       NaN  \n5989           30        978       NaN  \n5990           31       1235       NaN  \n\n[5980 rows x 8 columns]",
      "text/html": "<div>\n<style scoped>\n    .dataframe tbody tr th:only-of-type {\n        vertical-align: middle;\n    }\n\n    .dataframe tbody tr th {\n        vertical-align: top;\n    }\n\n    .dataframe thead th {\n        text-align: right;\n    }\n</style>\n<table border=\"1\" class=\"dataframe\">\n  <thead>\n    <tr style=\"text-align: right;\">\n      <th></th>\n      <th>Author</th>\n      <th>Book_Name</th>\n      <th>Book_Category</th>\n      <th>Book_url</th>\n      <th>Publishing_house</th>\n      <th>Book_size_MB</th>\n      <th>Book_pages</th>\n      <th>Quotation</th>\n    </tr>\n  </thead>\n  <tbody>\n    <tr>\n      <th>0</th>\n      <td>الكاتب محمود سالم</td>\n      <td>لغز القبر الملكي</td>\n      <td>روايات بوليسية</td>\n      <td>https://www.arab-books.com/books/%d9%83%d8%aa%...</td>\n      <td>مؤسسة هنداوي</td>\n      <td>2</td>\n      <td>52</td>\n      <td>NaN</td>\n    </tr>\n    <tr>\n      <th>1</th>\n      <td>الكاتب محمود سالم</td>\n      <td>لغز الكوخ المحترق</td>\n      <td>روايات بوليسية</td>\n      <td>https://www.arab-books.com/books/%d9%83%d8%aa%...</td>\n      <td>مؤسسة هنداوي</td>\n      <td>2</td>\n      <td>56</td>\n      <td>NaN</td>\n    </tr>\n    <tr>\n      <th>2</th>\n      <td>الكاتب محمود سالم</td>\n      <td>لغز اللص الشبح</td>\n      <td>روايات بوليسية</td>\n      <td>https://www.arab-books.com/books/%d9%83%d8%aa%...</td>\n      <td>مؤسسة هنداوي</td>\n      <td>2</td>\n      <td>48</td>\n      <td>NaN</td>\n    </tr>\n    <tr>\n      <th>3</th>\n      <td>الكاتب محمود سالم</td>\n      <td>لغز المدينة العائمة</td>\n      <td>روايات بوليسية</td>\n      <td>https://www.arab-books.com/books/%d9%83%d8%aa%...</td>\n      <td>مؤسسة هنداوي</td>\n      <td>2</td>\n      <td>54</td>\n      <td>NaN</td>\n    </tr>\n    <tr>\n      <th>4</th>\n      <td>الكاتب محمود سالم</td>\n      <td>لغز المنزل رقم 98</td>\n      <td>روايات بوليسية</td>\n      <td>https://www.arab-books.com/books/%d9%83%d8%aa%...</td>\n      <td>مؤسسة هنداوي</td>\n      <td>2</td>\n      <td>48</td>\n      <td>NaN</td>\n    </tr>\n    <tr>\n      <th>...</th>\n      <td>...</td>\n      <td>...</td>\n      <td>...</td>\n      <td>...</td>\n      <td>...</td>\n      <td>...</td>\n      <td>...</td>\n      <td>...</td>\n    </tr>\n    <tr>\n      <th>5986</th>\n      <td>الكاتب فرانز كافكا</td>\n      <td>رواية التحول فرانتس كافكا</td>\n      <td>كتب الروايات العالمية المترجمة</td>\n      <td>https://www.arab-books.com/books/%d8%b1%d9%88%...</td>\n      <td>منشورات الجمل</td>\n      <td>1.64</td>\n      <td>106</td>\n      <td>NaN</td>\n    </tr>\n    <tr>\n      <th>5987</th>\n      <td>الشيخ عبدالوهاب خلاف</td>\n      <td>احكام الاحوال الشخصية في الشريعة الاسلامية</td>\n      <td>كتب أصول الفقه</td>\n      <td>https://www.arab-books.com/books/%d9%83%d8%aa%...</td>\n      <td>دار الكتب العلمية</td>\n      <td>14</td>\n      <td>289</td>\n      <td>NaN</td>\n    </tr>\n    <tr>\n      <th>5988</th>\n      <td>الله عز وجل</td>\n      <td>Corán traducido al español – القران نسخة اسبانية</td>\n      <td>القرآن الكريم</td>\n      <td>https://www.arab-books.com/books/coran-traduci...</td>\n      <td>محمد رسول الله</td>\n      <td>26</td>\n      <td>1088</td>\n      <td>NaN</td>\n    </tr>\n    <tr>\n      <th>5989</th>\n      <td>الله عز وجل</td>\n      <td>القران الكريم باللغة الانجليزية -Quran with En...</td>\n      <td>القرآن الكريم</td>\n      <td>https://www.arab-books.com/books/%d8%a7%d9%84%...</td>\n      <td>محمد رسول الله</td>\n      <td>30</td>\n      <td>978</td>\n      <td>NaN</td>\n    </tr>\n    <tr>\n      <th>5990</th>\n      <td>الله عز وجل</td>\n      <td>Le Saint Coran en français</td>\n      <td>القرآن الكريم</td>\n      <td>https://www.arab-books.com/books/le-saint-cora...</td>\n      <td>NaN</td>\n      <td>31</td>\n      <td>1235</td>\n      <td>NaN</td>\n    </tr>\n  </tbody>\n</table>\n<p>5980 rows × 8 columns</p>\n</div>"
     },
     "execution_count": 10,
     "metadata": {},
     "output_type": "execute_result"
    }
   ],
   "source": [
    "book_name=[]\n",
    "for word in df['Book_Name']:\n",
    "    phase1=re.sub(r'[Pp][Dd][Ff]|كتاب|[!\":,.؟]','',word)\n",
    "    phase2=phase1.split('للكاتب')[0]\n",
    "    phase3=re.sub(r'\\s{2,}',' ',phase2)\n",
    "    phase4=phase3.strip()\n",
    "    book_name.append(phase4)\n",
    "\n",
    "df['Book_Name']=book_name\n",
    "df=df[~df['Book_Name'].str.match(u'[^\\u0621-\\u064A\\u0660-\\u0669a-zA-Z0-9]')]\n",
    "df"
   ],
   "metadata": {
    "collapsed": false,
    "pycharm": {
     "name": "#%%\n"
    }
   }
  },
  {
   "cell_type": "code",
   "execution_count": 11,
   "outputs": [
    {
     "data": {
      "text/plain": "                    Author                                          Book_Name  \\\n0        الكاتب محمود سالم                                   لغز القبر الملكي   \n1        الكاتب محمود سالم                                  لغز الكوخ المحترق   \n2        الكاتب محمود سالم                                     لغز اللص الشبح   \n3        الكاتب محمود سالم                                لغز المدينة العائمة   \n4        الكاتب محمود سالم                                  لغز المنزل رقم 98   \n...                    ...                                                ...   \n5986    الكاتب فرانز كافكا                          رواية التحول فرانتس كافكا   \n5987  الشيخ عبدالوهاب خلاف         احكام الاحوال الشخصية في الشريعة الاسلامية   \n5988           الله عز وجل   Corán traducido al español – القران نسخة اسبانية   \n5989           الله عز وجل  القران الكريم باللغة الانجليزية -Quran with En...   \n5990           الله عز وجل                         Le Saint Coran en français   \n\n                       Book_Category  \\\n0                     روايات بوليسية   \n1                     روايات بوليسية   \n2                     روايات بوليسية   \n3                     روايات بوليسية   \n4                     روايات بوليسية   \n...                              ...   \n5986  كتب الروايات العالمية المترجمة   \n5987                  كتب أصول الفقه   \n5988                   القرآن الكريم   \n5989                   القرآن الكريم   \n5990                   القرآن الكريم   \n\n                                               Book_url   Publishing_house  \\\n0     https://www.arab-books.com/books/%d9%83%d8%aa%...       مؤسسة هنداوي   \n1     https://www.arab-books.com/books/%d9%83%d8%aa%...       مؤسسة هنداوي   \n2     https://www.arab-books.com/books/%d9%83%d8%aa%...       مؤسسة هنداوي   \n3     https://www.arab-books.com/books/%d9%83%d8%aa%...       مؤسسة هنداوي   \n4     https://www.arab-books.com/books/%d9%83%d8%aa%...       مؤسسة هنداوي   \n...                                                 ...                ...   \n5986  https://www.arab-books.com/books/%d8%b1%d9%88%...      منشورات الجمل   \n5987  https://www.arab-books.com/books/%d9%83%d8%aa%...  دار الكتب العلمية   \n5988  https://www.arab-books.com/books/coran-traduci...     محمد رسول الله   \n5989  https://www.arab-books.com/books/%d8%a7%d9%84%...     محمد رسول الله   \n5990  https://www.arab-books.com/books/le-saint-cora...                NaN   \n\n     Book_size_MB Book_pages Quotation  \n0               2         52       NaN  \n1               2         56       NaN  \n2               2         48       NaN  \n3               2         54       NaN  \n4               2         48       NaN  \n...           ...        ...       ...  \n5986         1.64        106       NaN  \n5987           14        289       NaN  \n5988           26       1088       NaN  \n5989           30        978       NaN  \n5990           31       1235       NaN  \n\n[5980 rows x 8 columns]",
      "text/html": "<div>\n<style scoped>\n    .dataframe tbody tr th:only-of-type {\n        vertical-align: middle;\n    }\n\n    .dataframe tbody tr th {\n        vertical-align: top;\n    }\n\n    .dataframe thead th {\n        text-align: right;\n    }\n</style>\n<table border=\"1\" class=\"dataframe\">\n  <thead>\n    <tr style=\"text-align: right;\">\n      <th></th>\n      <th>Author</th>\n      <th>Book_Name</th>\n      <th>Book_Category</th>\n      <th>Book_url</th>\n      <th>Publishing_house</th>\n      <th>Book_size_MB</th>\n      <th>Book_pages</th>\n      <th>Quotation</th>\n    </tr>\n  </thead>\n  <tbody>\n    <tr>\n      <th>0</th>\n      <td>الكاتب محمود سالم</td>\n      <td>لغز القبر الملكي</td>\n      <td>روايات بوليسية</td>\n      <td>https://www.arab-books.com/books/%d9%83%d8%aa%...</td>\n      <td>مؤسسة هنداوي</td>\n      <td>2</td>\n      <td>52</td>\n      <td>NaN</td>\n    </tr>\n    <tr>\n      <th>1</th>\n      <td>الكاتب محمود سالم</td>\n      <td>لغز الكوخ المحترق</td>\n      <td>روايات بوليسية</td>\n      <td>https://www.arab-books.com/books/%d9%83%d8%aa%...</td>\n      <td>مؤسسة هنداوي</td>\n      <td>2</td>\n      <td>56</td>\n      <td>NaN</td>\n    </tr>\n    <tr>\n      <th>2</th>\n      <td>الكاتب محمود سالم</td>\n      <td>لغز اللص الشبح</td>\n      <td>روايات بوليسية</td>\n      <td>https://www.arab-books.com/books/%d9%83%d8%aa%...</td>\n      <td>مؤسسة هنداوي</td>\n      <td>2</td>\n      <td>48</td>\n      <td>NaN</td>\n    </tr>\n    <tr>\n      <th>3</th>\n      <td>الكاتب محمود سالم</td>\n      <td>لغز المدينة العائمة</td>\n      <td>روايات بوليسية</td>\n      <td>https://www.arab-books.com/books/%d9%83%d8%aa%...</td>\n      <td>مؤسسة هنداوي</td>\n      <td>2</td>\n      <td>54</td>\n      <td>NaN</td>\n    </tr>\n    <tr>\n      <th>4</th>\n      <td>الكاتب محمود سالم</td>\n      <td>لغز المنزل رقم 98</td>\n      <td>روايات بوليسية</td>\n      <td>https://www.arab-books.com/books/%d9%83%d8%aa%...</td>\n      <td>مؤسسة هنداوي</td>\n      <td>2</td>\n      <td>48</td>\n      <td>NaN</td>\n    </tr>\n    <tr>\n      <th>...</th>\n      <td>...</td>\n      <td>...</td>\n      <td>...</td>\n      <td>...</td>\n      <td>...</td>\n      <td>...</td>\n      <td>...</td>\n      <td>...</td>\n    </tr>\n    <tr>\n      <th>5986</th>\n      <td>الكاتب فرانز كافكا</td>\n      <td>رواية التحول فرانتس كافكا</td>\n      <td>كتب الروايات العالمية المترجمة</td>\n      <td>https://www.arab-books.com/books/%d8%b1%d9%88%...</td>\n      <td>منشورات الجمل</td>\n      <td>1.64</td>\n      <td>106</td>\n      <td>NaN</td>\n    </tr>\n    <tr>\n      <th>5987</th>\n      <td>الشيخ عبدالوهاب خلاف</td>\n      <td>احكام الاحوال الشخصية في الشريعة الاسلامية</td>\n      <td>كتب أصول الفقه</td>\n      <td>https://www.arab-books.com/books/%d9%83%d8%aa%...</td>\n      <td>دار الكتب العلمية</td>\n      <td>14</td>\n      <td>289</td>\n      <td>NaN</td>\n    </tr>\n    <tr>\n      <th>5988</th>\n      <td>الله عز وجل</td>\n      <td>Corán traducido al español – القران نسخة اسبانية</td>\n      <td>القرآن الكريم</td>\n      <td>https://www.arab-books.com/books/coran-traduci...</td>\n      <td>محمد رسول الله</td>\n      <td>26</td>\n      <td>1088</td>\n      <td>NaN</td>\n    </tr>\n    <tr>\n      <th>5989</th>\n      <td>الله عز وجل</td>\n      <td>القران الكريم باللغة الانجليزية -Quran with En...</td>\n      <td>القرآن الكريم</td>\n      <td>https://www.arab-books.com/books/%d8%a7%d9%84%...</td>\n      <td>محمد رسول الله</td>\n      <td>30</td>\n      <td>978</td>\n      <td>NaN</td>\n    </tr>\n    <tr>\n      <th>5990</th>\n      <td>الله عز وجل</td>\n      <td>Le Saint Coran en français</td>\n      <td>القرآن الكريم</td>\n      <td>https://www.arab-books.com/books/le-saint-cora...</td>\n      <td>NaN</td>\n      <td>31</td>\n      <td>1235</td>\n      <td>NaN</td>\n    </tr>\n  </tbody>\n</table>\n<p>5980 rows × 8 columns</p>\n</div>"
     },
     "execution_count": 11,
     "metadata": {},
     "output_type": "execute_result"
    }
   ],
   "source": [
    "df[\"Publishing_house\"]=df[\"Publishing_house\"].str.replace(u'[^\\u0621-\\u064A\\u0660-\\u0669\\s]','',regex=True)\n",
    "df"
   ],
   "metadata": {
    "collapsed": false,
    "pycharm": {
     "name": "#%%\n"
    }
   }
  },
  {
   "cell_type": "code",
   "execution_count": 12,
   "outputs": [],
   "source": [
    "df.replace(r'^\\s*$', np.NaN, regex=True,inplace=True)"
   ],
   "metadata": {
    "collapsed": false,
    "pycharm": {
     "name": "#%%\n"
    }
   }
  },
  {
   "cell_type": "code",
   "execution_count": 13,
   "outputs": [
    {
     "data": {
      "text/plain": "               Author                   Book_Name  \\\n0   الكاتب محمود سالم            لغز القبر الملكي   \n1   الكاتب محمود سالم           لغز الكوخ المحترق   \n2   الكاتب محمود سالم              لغز اللص الشبح   \n3   الكاتب محمود سالم         لغز المدينة العائمة   \n4   الكاتب محمود سالم           لغز المنزل رقم 98   \n5   الكاتب محمود سالم        لغز الموسيقار الصغير   \n6   الكاتب محمود سالم          لغز الوثائق السرية   \n7   الكاتب هارون يحيى         التضحية عند الحيوان   \n8   الكاتب هارون يحيى                 معجزة الذرة   \n9   الكاتب هارون يحيى                   لا تتجاهل   \n10  الكاتب هارون يحيى         الحياة في سبيل الله   \n11  الكاتب هارون يحيى           العظمة في كل مكان   \n12  الكاتب هارون يحيى        معجزة الجهاز المناعي   \n13  الكاتب هارون يحيى  الرومنسية سلاح بيد الشيطان   \n14  الكاتب هارون يحيى               رحلة في الكون   \n15  الكاتب هارون يحيى          التصميم في الطبيعة   \n16  الكاتب هارون يحيى           معجزة خلق الإنسان   \n17  الكاتب محمود سالم           لغز سرقة البنسيون   \n18  الكاتب محمود سالم               لغز كلب البحر   \n19  الكاتب محمود سالم             لغز ملك الشطرنج   \n\n                  Book_Category  \\\n0                روايات بوليسية   \n1                روايات بوليسية   \n2                روايات بوليسية   \n3                روايات بوليسية   \n4                روايات بوليسية   \n5                روايات بوليسية   \n6                روايات بوليسية   \n7   كتب الأدب العربي-كتب متنوعة   \n8    كتب تطوير الذات-كتب متنوعة   \n9              كتب الأدب العربي   \n10                  كتب اسلامية   \n11             كتب الأدب العربي   \n12    كتب الأدب العربي-كتب طبية   \n13                  كتب اسلامية   \n14                          NaN   \n15                  كتب اسلامية   \n16                  كتب اسلامية   \n17               روايات بوليسية   \n18               روايات بوليسية   \n19               روايات بوليسية   \n\n                                             Book_url Publishing_house  \\\n0   https://www.arab-books.com/books/%d9%83%d8%aa%...     مؤسسة هنداوي   \n1   https://www.arab-books.com/books/%d9%83%d8%aa%...     مؤسسة هنداوي   \n2   https://www.arab-books.com/books/%d9%83%d8%aa%...     مؤسسة هنداوي   \n3   https://www.arab-books.com/books/%d9%83%d8%aa%...     مؤسسة هنداوي   \n4   https://www.arab-books.com/books/%d9%83%d8%aa%...     مؤسسة هنداوي   \n5   https://www.arab-books.com/books/%d9%83%d8%aa%...     مؤسسة هنداوي   \n6   https://www.arab-books.com/books/%d9%83%d8%aa%...     مؤسسة هنداوي   \n7   https://www.arab-books.com/books/%d9%83%d8%aa%...     عدنان أوكطار   \n8   https://www.arab-books.com/books/%d9%83%d8%aa%...     عدنان أوكطار   \n9   https://www.arab-books.com/books/%d9%83%d8%aa%...     عدنان أوكطار   \n10  https://www.arab-books.com/books/%d9%83%d8%aa%...     عدنان أوكطار   \n11  https://www.arab-books.com/books/%d9%83%d8%aa%...     عدنان أوكطار   \n12  https://www.arab-books.com/books/%d9%83%d8%aa%...     عدنان أوكطار   \n13  https://www.arab-books.com/books/%d9%83%d8%aa%...     عدنان أوكطار   \n14  https://www.arab-books.com/books/%d9%83%d8%aa%...     عدنان أوكطار   \n15  https://www.arab-books.com/books/%d9%83%d8%aa%...     عدنان أوكطار   \n16  https://www.arab-books.com/books/%d9%83%d8%aa%...     عدنان أوكطار   \n17  https://www.arab-books.com/books/%d9%83%d8%aa%...     مؤسسة هنداوي   \n18  https://www.arab-books.com/books/%d9%83%d8%aa%...     مؤسسة هنداوي   \n19  https://www.arab-books.com/books/%d9%83%d8%aa%...     مؤسسة هنداوي   \n\n   Book_size_MB Book_pages                                          Quotation  \n0             2         52                                                NaN  \n1             2         56                                                NaN  \n2             2         48                                                NaN  \n3             2         54                                                NaN  \n4             2         48                                                NaN  \n5             2         54                                                NaN  \n6             2         50                                                NaN  \n7             5        160  ترون بأنفسكم نماذج من السلوك عند بعض الحيوانات...  \n8          3.41        136  إن هذا الكتاب يبين وبالدليل العلمي أن الذي خلق...  \n9             3        100  هذه الحقيقة بالإضافة إلى حقائق كونية أخرى يستع...  \n10         2.11        100  أما المنافقون فهم في سبيل الفوز بما قال عنه ال...  \n11          5.3        140  ولو سال عن كيفية التي يتحرك بها كل شيء هذا الك...  \n12           10        133  إن هذا الجهاز هو دليل على أن الجسم البشرى هو ن...  \n13           10        139  إن الإنسان هو المخلوق الذي أنعم الله عليه بملك...  \n14            1        114  عندما تشرع في مطالعة هذا الكتاب فاعلم أنك قد ا...  \n15           10        192  وجدت نظرية داروين تربتها الخصبة في القرن التاس...  \n16            4        185  عندما تشرع في مطالعة هذا الكتاب فاعلم أنك قد ا...  \n17            2         58                                                NaN  \n18            2         58                                                NaN  \n19            2         56                                                NaN  ",
      "text/html": "<div>\n<style scoped>\n    .dataframe tbody tr th:only-of-type {\n        vertical-align: middle;\n    }\n\n    .dataframe tbody tr th {\n        vertical-align: top;\n    }\n\n    .dataframe thead th {\n        text-align: right;\n    }\n</style>\n<table border=\"1\" class=\"dataframe\">\n  <thead>\n    <tr style=\"text-align: right;\">\n      <th></th>\n      <th>Author</th>\n      <th>Book_Name</th>\n      <th>Book_Category</th>\n      <th>Book_url</th>\n      <th>Publishing_house</th>\n      <th>Book_size_MB</th>\n      <th>Book_pages</th>\n      <th>Quotation</th>\n    </tr>\n  </thead>\n  <tbody>\n    <tr>\n      <th>0</th>\n      <td>الكاتب محمود سالم</td>\n      <td>لغز القبر الملكي</td>\n      <td>روايات بوليسية</td>\n      <td>https://www.arab-books.com/books/%d9%83%d8%aa%...</td>\n      <td>مؤسسة هنداوي</td>\n      <td>2</td>\n      <td>52</td>\n      <td>NaN</td>\n    </tr>\n    <tr>\n      <th>1</th>\n      <td>الكاتب محمود سالم</td>\n      <td>لغز الكوخ المحترق</td>\n      <td>روايات بوليسية</td>\n      <td>https://www.arab-books.com/books/%d9%83%d8%aa%...</td>\n      <td>مؤسسة هنداوي</td>\n      <td>2</td>\n      <td>56</td>\n      <td>NaN</td>\n    </tr>\n    <tr>\n      <th>2</th>\n      <td>الكاتب محمود سالم</td>\n      <td>لغز اللص الشبح</td>\n      <td>روايات بوليسية</td>\n      <td>https://www.arab-books.com/books/%d9%83%d8%aa%...</td>\n      <td>مؤسسة هنداوي</td>\n      <td>2</td>\n      <td>48</td>\n      <td>NaN</td>\n    </tr>\n    <tr>\n      <th>3</th>\n      <td>الكاتب محمود سالم</td>\n      <td>لغز المدينة العائمة</td>\n      <td>روايات بوليسية</td>\n      <td>https://www.arab-books.com/books/%d9%83%d8%aa%...</td>\n      <td>مؤسسة هنداوي</td>\n      <td>2</td>\n      <td>54</td>\n      <td>NaN</td>\n    </tr>\n    <tr>\n      <th>4</th>\n      <td>الكاتب محمود سالم</td>\n      <td>لغز المنزل رقم 98</td>\n      <td>روايات بوليسية</td>\n      <td>https://www.arab-books.com/books/%d9%83%d8%aa%...</td>\n      <td>مؤسسة هنداوي</td>\n      <td>2</td>\n      <td>48</td>\n      <td>NaN</td>\n    </tr>\n    <tr>\n      <th>5</th>\n      <td>الكاتب محمود سالم</td>\n      <td>لغز الموسيقار الصغير</td>\n      <td>روايات بوليسية</td>\n      <td>https://www.arab-books.com/books/%d9%83%d8%aa%...</td>\n      <td>مؤسسة هنداوي</td>\n      <td>2</td>\n      <td>54</td>\n      <td>NaN</td>\n    </tr>\n    <tr>\n      <th>6</th>\n      <td>الكاتب محمود سالم</td>\n      <td>لغز الوثائق السرية</td>\n      <td>روايات بوليسية</td>\n      <td>https://www.arab-books.com/books/%d9%83%d8%aa%...</td>\n      <td>مؤسسة هنداوي</td>\n      <td>2</td>\n      <td>50</td>\n      <td>NaN</td>\n    </tr>\n    <tr>\n      <th>7</th>\n      <td>الكاتب هارون يحيى</td>\n      <td>التضحية عند الحيوان</td>\n      <td>كتب الأدب العربي-كتب متنوعة</td>\n      <td>https://www.arab-books.com/books/%d9%83%d8%aa%...</td>\n      <td>عدنان أوكطار</td>\n      <td>5</td>\n      <td>160</td>\n      <td>ترون بأنفسكم نماذج من السلوك عند بعض الحيوانات...</td>\n    </tr>\n    <tr>\n      <th>8</th>\n      <td>الكاتب هارون يحيى</td>\n      <td>معجزة الذرة</td>\n      <td>كتب تطوير الذات-كتب متنوعة</td>\n      <td>https://www.arab-books.com/books/%d9%83%d8%aa%...</td>\n      <td>عدنان أوكطار</td>\n      <td>3.41</td>\n      <td>136</td>\n      <td>إن هذا الكتاب يبين وبالدليل العلمي أن الذي خلق...</td>\n    </tr>\n    <tr>\n      <th>9</th>\n      <td>الكاتب هارون يحيى</td>\n      <td>لا تتجاهل</td>\n      <td>كتب الأدب العربي</td>\n      <td>https://www.arab-books.com/books/%d9%83%d8%aa%...</td>\n      <td>عدنان أوكطار</td>\n      <td>3</td>\n      <td>100</td>\n      <td>هذه الحقيقة بالإضافة إلى حقائق كونية أخرى يستع...</td>\n    </tr>\n    <tr>\n      <th>10</th>\n      <td>الكاتب هارون يحيى</td>\n      <td>الحياة في سبيل الله</td>\n      <td>كتب اسلامية</td>\n      <td>https://www.arab-books.com/books/%d9%83%d8%aa%...</td>\n      <td>عدنان أوكطار</td>\n      <td>2.11</td>\n      <td>100</td>\n      <td>أما المنافقون فهم في سبيل الفوز بما قال عنه ال...</td>\n    </tr>\n    <tr>\n      <th>11</th>\n      <td>الكاتب هارون يحيى</td>\n      <td>العظمة في كل مكان</td>\n      <td>كتب الأدب العربي</td>\n      <td>https://www.arab-books.com/books/%d9%83%d8%aa%...</td>\n      <td>عدنان أوكطار</td>\n      <td>5.3</td>\n      <td>140</td>\n      <td>ولو سال عن كيفية التي يتحرك بها كل شيء هذا الك...</td>\n    </tr>\n    <tr>\n      <th>12</th>\n      <td>الكاتب هارون يحيى</td>\n      <td>معجزة الجهاز المناعي</td>\n      <td>كتب الأدب العربي-كتب طبية</td>\n      <td>https://www.arab-books.com/books/%d9%83%d8%aa%...</td>\n      <td>عدنان أوكطار</td>\n      <td>10</td>\n      <td>133</td>\n      <td>إن هذا الجهاز هو دليل على أن الجسم البشرى هو ن...</td>\n    </tr>\n    <tr>\n      <th>13</th>\n      <td>الكاتب هارون يحيى</td>\n      <td>الرومنسية سلاح بيد الشيطان</td>\n      <td>كتب اسلامية</td>\n      <td>https://www.arab-books.com/books/%d9%83%d8%aa%...</td>\n      <td>عدنان أوكطار</td>\n      <td>10</td>\n      <td>139</td>\n      <td>إن الإنسان هو المخلوق الذي أنعم الله عليه بملك...</td>\n    </tr>\n    <tr>\n      <th>14</th>\n      <td>الكاتب هارون يحيى</td>\n      <td>رحلة في الكون</td>\n      <td>NaN</td>\n      <td>https://www.arab-books.com/books/%d9%83%d8%aa%...</td>\n      <td>عدنان أوكطار</td>\n      <td>1</td>\n      <td>114</td>\n      <td>عندما تشرع في مطالعة هذا الكتاب فاعلم أنك قد ا...</td>\n    </tr>\n    <tr>\n      <th>15</th>\n      <td>الكاتب هارون يحيى</td>\n      <td>التصميم في الطبيعة</td>\n      <td>كتب اسلامية</td>\n      <td>https://www.arab-books.com/books/%d9%83%d8%aa%...</td>\n      <td>عدنان أوكطار</td>\n      <td>10</td>\n      <td>192</td>\n      <td>وجدت نظرية داروين تربتها الخصبة في القرن التاس...</td>\n    </tr>\n    <tr>\n      <th>16</th>\n      <td>الكاتب هارون يحيى</td>\n      <td>معجزة خلق الإنسان</td>\n      <td>كتب اسلامية</td>\n      <td>https://www.arab-books.com/books/%d9%83%d8%aa%...</td>\n      <td>عدنان أوكطار</td>\n      <td>4</td>\n      <td>185</td>\n      <td>عندما تشرع في مطالعة هذا الكتاب فاعلم أنك قد ا...</td>\n    </tr>\n    <tr>\n      <th>17</th>\n      <td>الكاتب محمود سالم</td>\n      <td>لغز سرقة البنسيون</td>\n      <td>روايات بوليسية</td>\n      <td>https://www.arab-books.com/books/%d9%83%d8%aa%...</td>\n      <td>مؤسسة هنداوي</td>\n      <td>2</td>\n      <td>58</td>\n      <td>NaN</td>\n    </tr>\n    <tr>\n      <th>18</th>\n      <td>الكاتب محمود سالم</td>\n      <td>لغز كلب البحر</td>\n      <td>روايات بوليسية</td>\n      <td>https://www.arab-books.com/books/%d9%83%d8%aa%...</td>\n      <td>مؤسسة هنداوي</td>\n      <td>2</td>\n      <td>58</td>\n      <td>NaN</td>\n    </tr>\n    <tr>\n      <th>19</th>\n      <td>الكاتب محمود سالم</td>\n      <td>لغز ملك الشطرنج</td>\n      <td>روايات بوليسية</td>\n      <td>https://www.arab-books.com/books/%d9%83%d8%aa%...</td>\n      <td>مؤسسة هنداوي</td>\n      <td>2</td>\n      <td>56</td>\n      <td>NaN</td>\n    </tr>\n  </tbody>\n</table>\n</div>"
     },
     "execution_count": 13,
     "metadata": {},
     "output_type": "execute_result"
    }
   ],
   "source": [
    "df.head(20)"
   ],
   "metadata": {
    "collapsed": false,
    "pycharm": {
     "name": "#%%\n"
    }
   }
  },
  {
   "cell_type": "code",
   "execution_count": 14,
   "outputs": [],
   "source": [
    "df.to_csv('Cleaned_data.csv',encoding='utf-8-sig',index=False)"
   ],
   "metadata": {
    "collapsed": false,
    "pycharm": {
     "name": "#%%\n"
    }
   }
  },
  {
   "cell_type": "code",
   "execution_count": null,
   "outputs": [],
   "source": [],
   "metadata": {
    "collapsed": false,
    "pycharm": {
     "name": "#%%\n"
    }
   }
  }
 ],
 "metadata": {
  "kernelspec": {
   "display_name": "Python 3",
   "language": "python",
   "name": "python3"
  },
  "language_info": {
   "codemirror_mode": {
    "name": "ipython",
    "version": 2
   },
   "file_extension": ".py",
   "mimetype": "text/x-python",
   "name": "python",
   "nbconvert_exporter": "python",
   "pygments_lexer": "ipython2",
   "version": "2.7.6"
  }
 },
 "nbformat": 4,
 "nbformat_minor": 0
}