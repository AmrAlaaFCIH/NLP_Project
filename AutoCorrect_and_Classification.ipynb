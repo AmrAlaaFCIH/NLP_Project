{
 "cells": [
  {
   "cell_type": "code",
   "execution_count": 36,
   "outputs": [],
   "source": [
    "from sklearn.datasets import load_files\n",
    "from collections import Counter\n",
    "from nltk.tokenize import word_tokenize\n",
    "import pandas as pd\n",
    "import re\n",
    "from sklearn.feature_extraction.text import TfidfVectorizer\n",
    "from sklearn.linear_model import LogisticRegression\n",
    "from sklearn.naive_bayes import MultinomialNB\n",
    "from sklearn.ensemble import RandomForestClassifier\n",
    "from sklearn.pipeline import Pipeline\n",
    "pd.options.mode.chained_assignment = None"
   ],
   "metadata": {
    "collapsed": false,
    "pycharm": {
     "name": "#%%\n"
    }
   }
  },
  {
   "cell_type": "code",
   "execution_count": 37,
   "outputs": [],
   "source": [
    "class AutoCorrect:\n",
    "    def from_file(self,file):\n",
    "        vocablist=[]\n",
    "        with open(file,encoding='utf-8-sig',mode='r') as file:\n",
    "            lines=file.readlines()\n",
    "            for line in lines:\n",
    "                vocablist +=[word for word in re.findall(r'\\w+',line) if len(word)>1]\n",
    "        vocab_counter=Counter(vocablist)\n",
    "        totalwords=sum(vocab_counter.values())\n",
    "        self.vocab=set(vocablist)\n",
    "        self.word_prob={word:vocab_counter[word]/totalwords for word in vocab_counter.keys()}\n",
    "\n",
    "    def from_dir(self,dir):\n",
    "        dataset=load_files(dir,encoding='utf-8-sig')\n",
    "        vocablist=[]\n",
    "        for doc in dataset['data']:\n",
    "            vocablist +=[word for word in re.findall(r'\\w+',doc) if len(word)>1]\n",
    "        vocab_counter=Counter(vocablist)\n",
    "        totalwords=sum(vocab_counter.values())\n",
    "        self.vocab=set(vocablist)\n",
    "        self.word_prob={word:vocab_counter[word]/totalwords for word in vocab_counter.keys()}\n",
    "\n",
    "\n",
    "    def _level_one_edits(self,word):\n",
    "        letters=u'ابتةثجحخدذرزسشصضطظعغفقكلمنهويءآأؤإئ'\n",
    "        splits=[(word[:part],word[part:]) for part in range(0,len(word))]\n",
    "        deletes=[part1+part2[1:] for part1,part2 in splits if part2]\n",
    "        swaps=[part1+part2[0]+part2[1]+part2[2:] for part1,part2 in splits if len(part2) > 1]\n",
    "        replaces=[part1+c+part2[1:] for part1,part2 in splits if part2 for c in letters]\n",
    "        inserts=[part1+c+part2 for part1,part2 in splits for c in letters]\n",
    "        return set(deletes+swaps+replaces+inserts)\n",
    "\n",
    "    def _level_two_edits(self,word):\n",
    "        return set(e2 for e1 in self._level_one_edits(word) for e2 in self._level_one_edits(e1))\n",
    "\n",
    "    def check(self,word):\n",
    "        if word in self.vocab:\n",
    "            return True\n",
    "        candidates =list(self._level_one_edits(word))+list(self._level_two_edits(word))+[word]\n",
    "        valid_candidates = [w for w in candidates if w in self.vocab]\n",
    "        if len(valid_candidates) > 0 :\n",
    "            return sorted([(c, self.word_prob[c]) for c in valid_candidates], key=lambda tup: tup[1], reverse=True)\n",
    "        else:\n",
    "            return False\n",
    "\n",
    "    def correct(self,word):\n",
    "        if word in self.vocab:\n",
    "            return word\n",
    "        candidates =list(self._level_one_edits(word))+list(self._level_two_edits(word))+[word]\n",
    "        valid_candidates = [w for w in candidates if w in self.vocab]\n",
    "        if len(valid_candidates) > 0 :\n",
    "            return sorted([(c, self.word_prob[c]) for c in valid_candidates], key=lambda tup: tup[1], reverse=True)[0][0]\n",
    "        else:\n",
    "            return word\n"
   ],
   "metadata": {
    "collapsed": false,
    "pycharm": {
     "name": "#%%\n"
    }
   }
  },
  {
   "cell_type": "code",
   "execution_count": 38,
   "outputs": [],
   "source": [
    "autoCorrect=AutoCorrect()"
   ],
   "metadata": {
    "collapsed": false,
    "pycharm": {
     "name": "#%%\n"
    }
   }
  },
  {
   "cell_type": "code",
   "execution_count": 39,
   "outputs": [],
   "source": [
    "autoCorrect.from_dir('Khaleej-2004')"
   ],
   "metadata": {
    "collapsed": false,
    "pycharm": {
     "name": "#%%\n"
    }
   }
  },
  {
   "cell_type": "code",
   "execution_count": 40,
   "outputs": [
    {
     "data": {
      "text/plain": "              Author            Book_Name   Book_Category  \\\n0  الكاتب محمود سالم     لغز القبر الملكي  روايات بوليسية   \n1  الكاتب محمود سالم    لغز الكوخ المحترق  روايات بوليسية   \n2  الكاتب محمود سالم       لغز اللص الشبح  روايات بوليسية   \n3  الكاتب محمود سالم  لغز المدينة العائمة  روايات بوليسية   \n4  الكاتب محمود سالم    لغز المنزل رقم 98  روايات بوليسية   \n\n                                            Book_url Publishing_house  \\\n0  https://www.arab-books.com/books/%d9%83%d8%aa%...     مؤسسة هنداوي   \n1  https://www.arab-books.com/books/%d9%83%d8%aa%...     مؤسسة هنداوي   \n2  https://www.arab-books.com/books/%d9%83%d8%aa%...     مؤسسة هنداوي   \n3  https://www.arab-books.com/books/%d9%83%d8%aa%...     مؤسسة هنداوي   \n4  https://www.arab-books.com/books/%d9%83%d8%aa%...     مؤسسة هنداوي   \n\n   Book_size_MB  Book_pages Quotation  \n0           2.0        52.0       NaN  \n1           2.0        56.0       NaN  \n2           2.0        48.0       NaN  \n3           2.0        54.0       NaN  \n4           2.0        48.0       NaN  ",
      "text/html": "<div>\n<style scoped>\n    .dataframe tbody tr th:only-of-type {\n        vertical-align: middle;\n    }\n\n    .dataframe tbody tr th {\n        vertical-align: top;\n    }\n\n    .dataframe thead th {\n        text-align: right;\n    }\n</style>\n<table border=\"1\" class=\"dataframe\">\n  <thead>\n    <tr style=\"text-align: right;\">\n      <th></th>\n      <th>Author</th>\n      <th>Book_Name</th>\n      <th>Book_Category</th>\n      <th>Book_url</th>\n      <th>Publishing_house</th>\n      <th>Book_size_MB</th>\n      <th>Book_pages</th>\n      <th>Quotation</th>\n    </tr>\n  </thead>\n  <tbody>\n    <tr>\n      <th>0</th>\n      <td>الكاتب محمود سالم</td>\n      <td>لغز القبر الملكي</td>\n      <td>روايات بوليسية</td>\n      <td>https://www.arab-books.com/books/%d9%83%d8%aa%...</td>\n      <td>مؤسسة هنداوي</td>\n      <td>2.0</td>\n      <td>52.0</td>\n      <td>NaN</td>\n    </tr>\n    <tr>\n      <th>1</th>\n      <td>الكاتب محمود سالم</td>\n      <td>لغز الكوخ المحترق</td>\n      <td>روايات بوليسية</td>\n      <td>https://www.arab-books.com/books/%d9%83%d8%aa%...</td>\n      <td>مؤسسة هنداوي</td>\n      <td>2.0</td>\n      <td>56.0</td>\n      <td>NaN</td>\n    </tr>\n    <tr>\n      <th>2</th>\n      <td>الكاتب محمود سالم</td>\n      <td>لغز اللص الشبح</td>\n      <td>روايات بوليسية</td>\n      <td>https://www.arab-books.com/books/%d9%83%d8%aa%...</td>\n      <td>مؤسسة هنداوي</td>\n      <td>2.0</td>\n      <td>48.0</td>\n      <td>NaN</td>\n    </tr>\n    <tr>\n      <th>3</th>\n      <td>الكاتب محمود سالم</td>\n      <td>لغز المدينة العائمة</td>\n      <td>روايات بوليسية</td>\n      <td>https://www.arab-books.com/books/%d9%83%d8%aa%...</td>\n      <td>مؤسسة هنداوي</td>\n      <td>2.0</td>\n      <td>54.0</td>\n      <td>NaN</td>\n    </tr>\n    <tr>\n      <th>4</th>\n      <td>الكاتب محمود سالم</td>\n      <td>لغز المنزل رقم 98</td>\n      <td>روايات بوليسية</td>\n      <td>https://www.arab-books.com/books/%d9%83%d8%aa%...</td>\n      <td>مؤسسة هنداوي</td>\n      <td>2.0</td>\n      <td>48.0</td>\n      <td>NaN</td>\n    </tr>\n  </tbody>\n</table>\n</div>"
     },
     "execution_count": 40,
     "metadata": {},
     "output_type": "execute_result"
    }
   ],
   "source": [
    "df=pd.read_csv('Cleaned_data.csv')\n",
    "df.head()"
   ],
   "metadata": {
    "collapsed": false,
    "pycharm": {
     "name": "#%%\n"
    }
   }
  },
  {
   "cell_type": "code",
   "execution_count": 41,
   "outputs": [
    {
     "data": {
      "text/plain": "                     Author                  Book_Name  \\\n7         الكاتب هارون يحيى        التضحية عند الحيوان   \n8         الكاتب هارون يحيى                معجزة الذرة   \n9         الكاتب هارون يحيى                  لا تتجاهل   \n10        الكاتب هارون يحيى        الحياة في سبيل الله   \n11        الكاتب هارون يحيى          العظمة في كل مكان   \n...                     ...                        ...   \n1182  الكاتب الياس ابو شبكة   القيثارة لإلياس أبو شبكة   \n1183  الكاتب الياس ابو شبكة              المريض الصامت   \n1185  الكاتب الياس ابو شبكة            العمال الصالحون   \n1186  الكاتب الياس ابو شبكة  الألحان ومقتطفات من غلواء   \n1187  الكاتب الياس ابو شبكة     الرسوم لإلياس ابو شبكة   \n\n                          Book_Category  \\\n7           كتب الأدب العربي-كتب متنوعة   \n8            كتب تطوير الذات-كتب متنوعة   \n9                      كتب الأدب العربي   \n10                          كتب اسلامية   \n11                     كتب الأدب العربي   \n...                                 ...   \n1182  كتب الأدب العربي-كتب روايات عربية   \n1183  كتب الأدب العربي-كتب روايات عربية   \n1185  كتب الأدب العربي-كتب روايات عربية   \n1186  كتب الأدب العربي-كتب روايات عربية   \n1187  كتب الأدب العربي-كتب روايات عربية   \n\n                                               Book_url Publishing_house  \\\n7     https://www.arab-books.com/books/%d9%83%d8%aa%...     عدنان أوكطار   \n8     https://www.arab-books.com/books/%d9%83%d8%aa%...     عدنان أوكطار   \n9     https://www.arab-books.com/books/%d9%83%d8%aa%...     عدنان أوكطار   \n10    https://www.arab-books.com/books/%d9%83%d8%aa%...     عدنان أوكطار   \n11    https://www.arab-books.com/books/%d9%83%d8%aa%...     عدنان أوكطار   \n...                                                 ...              ...   \n1182  https://www.arab-books.com/books/%d9%83%d8%aa%...           هنداوي   \n1183  https://www.arab-books.com/books/%d9%83%d8%aa%...           هنداوي   \n1185  https://www.arab-books.com/books/%d9%83%d8%aa%...           هنداوي   \n1186  https://www.arab-books.com/books/%d9%83%d8%aa%...           هنداوي   \n1187  https://www.arab-books.com/books/%d9%83%d8%aa%...           هنداوي   \n\n      Book_size_MB  Book_pages  \\\n7             5.00       160.0   \n8             3.41       136.0   \n9             3.00       100.0   \n10            2.11       100.0   \n11            5.30       140.0   \n...            ...         ...   \n1182          5.00       198.0   \n1183          1.00        30.0   \n1185          1.00        80.0   \n1186         13.00        22.0   \n1187          2.00       124.0   \n\n                                              Quotation  \n7     ترون بأنفسكم نماذج من السلوك عند بعض الحيوانات...  \n8     إن هذا الكتاب يبين وبالدليل العلمي أن الذي خلق...  \n9     هذه الحقيقة بالإضافة إلى حقائق كونية أخرى يستع...  \n10    أما المنافقون فهم في سبيل الفوز بما قال عنه ال...  \n11    ولو سال عن كيفية التي يتحرك بها كل شيء هذا الك...  \n...                                                 ...  \n1182  لقد فتك ت بك يد أثيمة في بلاد الغربة بعيد ا عن...  \n1183  إن ما تقرأ في هذه الصفحات لهو حقيقة أليمة نطقت...  \n1185  كان لبيب راغب ولد ا في العاشرة من سنيه جميل ال...  \n1186  إلى الحصاد جنى الجهاد قلب البلاد يحيا بنا هيا ...  \n1187  منتصب انتصاب الج ذع في مقلتيه تمو جات تجيش في ...  \n\n[190 rows x 8 columns]",
      "text/html": "<div>\n<style scoped>\n    .dataframe tbody tr th:only-of-type {\n        vertical-align: middle;\n    }\n\n    .dataframe tbody tr th {\n        vertical-align: top;\n    }\n\n    .dataframe thead th {\n        text-align: right;\n    }\n</style>\n<table border=\"1\" class=\"dataframe\">\n  <thead>\n    <tr style=\"text-align: right;\">\n      <th></th>\n      <th>Author</th>\n      <th>Book_Name</th>\n      <th>Book_Category</th>\n      <th>Book_url</th>\n      <th>Publishing_house</th>\n      <th>Book_size_MB</th>\n      <th>Book_pages</th>\n      <th>Quotation</th>\n    </tr>\n  </thead>\n  <tbody>\n    <tr>\n      <th>7</th>\n      <td>الكاتب هارون يحيى</td>\n      <td>التضحية عند الحيوان</td>\n      <td>كتب الأدب العربي-كتب متنوعة</td>\n      <td>https://www.arab-books.com/books/%d9%83%d8%aa%...</td>\n      <td>عدنان أوكطار</td>\n      <td>5.00</td>\n      <td>160.0</td>\n      <td>ترون بأنفسكم نماذج من السلوك عند بعض الحيوانات...</td>\n    </tr>\n    <tr>\n      <th>8</th>\n      <td>الكاتب هارون يحيى</td>\n      <td>معجزة الذرة</td>\n      <td>كتب تطوير الذات-كتب متنوعة</td>\n      <td>https://www.arab-books.com/books/%d9%83%d8%aa%...</td>\n      <td>عدنان أوكطار</td>\n      <td>3.41</td>\n      <td>136.0</td>\n      <td>إن هذا الكتاب يبين وبالدليل العلمي أن الذي خلق...</td>\n    </tr>\n    <tr>\n      <th>9</th>\n      <td>الكاتب هارون يحيى</td>\n      <td>لا تتجاهل</td>\n      <td>كتب الأدب العربي</td>\n      <td>https://www.arab-books.com/books/%d9%83%d8%aa%...</td>\n      <td>عدنان أوكطار</td>\n      <td>3.00</td>\n      <td>100.0</td>\n      <td>هذه الحقيقة بالإضافة إلى حقائق كونية أخرى يستع...</td>\n    </tr>\n    <tr>\n      <th>10</th>\n      <td>الكاتب هارون يحيى</td>\n      <td>الحياة في سبيل الله</td>\n      <td>كتب اسلامية</td>\n      <td>https://www.arab-books.com/books/%d9%83%d8%aa%...</td>\n      <td>عدنان أوكطار</td>\n      <td>2.11</td>\n      <td>100.0</td>\n      <td>أما المنافقون فهم في سبيل الفوز بما قال عنه ال...</td>\n    </tr>\n    <tr>\n      <th>11</th>\n      <td>الكاتب هارون يحيى</td>\n      <td>العظمة في كل مكان</td>\n      <td>كتب الأدب العربي</td>\n      <td>https://www.arab-books.com/books/%d9%83%d8%aa%...</td>\n      <td>عدنان أوكطار</td>\n      <td>5.30</td>\n      <td>140.0</td>\n      <td>ولو سال عن كيفية التي يتحرك بها كل شيء هذا الك...</td>\n    </tr>\n    <tr>\n      <th>...</th>\n      <td>...</td>\n      <td>...</td>\n      <td>...</td>\n      <td>...</td>\n      <td>...</td>\n      <td>...</td>\n      <td>...</td>\n      <td>...</td>\n    </tr>\n    <tr>\n      <th>1182</th>\n      <td>الكاتب الياس ابو شبكة</td>\n      <td>القيثارة لإلياس أبو شبكة</td>\n      <td>كتب الأدب العربي-كتب روايات عربية</td>\n      <td>https://www.arab-books.com/books/%d9%83%d8%aa%...</td>\n      <td>هنداوي</td>\n      <td>5.00</td>\n      <td>198.0</td>\n      <td>لقد فتك ت بك يد أثيمة في بلاد الغربة بعيد ا عن...</td>\n    </tr>\n    <tr>\n      <th>1183</th>\n      <td>الكاتب الياس ابو شبكة</td>\n      <td>المريض الصامت</td>\n      <td>كتب الأدب العربي-كتب روايات عربية</td>\n      <td>https://www.arab-books.com/books/%d9%83%d8%aa%...</td>\n      <td>هنداوي</td>\n      <td>1.00</td>\n      <td>30.0</td>\n      <td>إن ما تقرأ في هذه الصفحات لهو حقيقة أليمة نطقت...</td>\n    </tr>\n    <tr>\n      <th>1185</th>\n      <td>الكاتب الياس ابو شبكة</td>\n      <td>العمال الصالحون</td>\n      <td>كتب الأدب العربي-كتب روايات عربية</td>\n      <td>https://www.arab-books.com/books/%d9%83%d8%aa%...</td>\n      <td>هنداوي</td>\n      <td>1.00</td>\n      <td>80.0</td>\n      <td>كان لبيب راغب ولد ا في العاشرة من سنيه جميل ال...</td>\n    </tr>\n    <tr>\n      <th>1186</th>\n      <td>الكاتب الياس ابو شبكة</td>\n      <td>الألحان ومقتطفات من غلواء</td>\n      <td>كتب الأدب العربي-كتب روايات عربية</td>\n      <td>https://www.arab-books.com/books/%d9%83%d8%aa%...</td>\n      <td>هنداوي</td>\n      <td>13.00</td>\n      <td>22.0</td>\n      <td>إلى الحصاد جنى الجهاد قلب البلاد يحيا بنا هيا ...</td>\n    </tr>\n    <tr>\n      <th>1187</th>\n      <td>الكاتب الياس ابو شبكة</td>\n      <td>الرسوم لإلياس ابو شبكة</td>\n      <td>كتب الأدب العربي-كتب روايات عربية</td>\n      <td>https://www.arab-books.com/books/%d9%83%d8%aa%...</td>\n      <td>هنداوي</td>\n      <td>2.00</td>\n      <td>124.0</td>\n      <td>منتصب انتصاب الج ذع في مقلتيه تمو جات تجيش في ...</td>\n    </tr>\n  </tbody>\n</table>\n<p>190 rows × 8 columns</p>\n</div>"
     },
     "execution_count": 41,
     "metadata": {},
     "output_type": "execute_result"
    }
   ],
   "source": [
    "df[~(df[\"Quotation\"].isna())]"
   ],
   "metadata": {
    "collapsed": false,
    "pycharm": {
     "name": "#%%\n"
    }
   }
  },
  {
   "cell_type": "code",
   "execution_count": 42,
   "outputs": [],
   "source": [
    "#Auto Correct data\n",
    "book_names=[]\n",
    "book_Quotation=[]\n",
    "for record in df[\"Book_Name\"]:\n",
    "    record=re.sub(\"\\d\",\"\",record)\n",
    "    words=word_tokenize(record)\n",
    "    words_new=[]\n",
    "    for word in words:\n",
    "        if len(word) < 2:\n",
    "            words_new.append(autoCorrect.correct(word))\n",
    "        else:\n",
    "            words_new.append(word)\n",
    "    book_names.append(' '.join(words_new))\n",
    "\n",
    "for record in df[~(df[\"Quotation\"].isna())][\"Quotation\"]:\n",
    "    record=re.sub(\"\\d\",\"\",record)\n",
    "    words=word_tokenize(record)\n",
    "    words_new=[]\n",
    "    for word in words:\n",
    "        if len(word) < 2:\n",
    "            words_new.append(autoCorrect.correct(word))\n",
    "        else:\n",
    "            words_new.append(word)\n",
    "    book_Quotation.append(' '.join(words_new))"
   ],
   "metadata": {
    "collapsed": false,
    "pycharm": {
     "name": "#%%\n"
    }
   }
  },
  {
   "cell_type": "code",
   "execution_count": 43,
   "outputs": [],
   "source": [
    "df[\"Book_Name\"]=book_names\n",
    "df[~(df[\"Quotation\"].isna())][\"Quotation\"]=book_Quotation"
   ],
   "metadata": {
    "collapsed": false,
    "pycharm": {
     "name": "#%%\n"
    }
   }
  },
  {
   "cell_type": "code",
   "execution_count": 44,
   "outputs": [],
   "source": [
    "#split data to two models one with Quotation and with not\n",
    "df1=df[df[\"Quotation\"].isna()]\n",
    "df2=df[~(df[\"Quotation\"].isna())]"
   ],
   "metadata": {
    "collapsed": false,
    "pycharm": {
     "name": "#%%\n"
    }
   }
  },
  {
   "cell_type": "code",
   "execution_count": 45,
   "outputs": [
    {
     "data": {
      "text/plain": "              Author            Book_Name   Book_Category  \\\n0  الكاتب محمود سالم     لغز القبر الملكي  روايات بوليسية   \n1  الكاتب محمود سالم    لغز الكوخ المحترق  روايات بوليسية   \n2  الكاتب محمود سالم       لغز اللص الشبح  روايات بوليسية   \n3  الكاتب محمود سالم  لغز المدينة العائمة  روايات بوليسية   \n4  الكاتب محمود سالم       لغز المنزل رقم  روايات بوليسية   \n\n                                            Book_url Publishing_house  \\\n0  https://www.arab-books.com/books/%d9%83%d8%aa%...     مؤسسة هنداوي   \n1  https://www.arab-books.com/books/%d9%83%d8%aa%...     مؤسسة هنداوي   \n2  https://www.arab-books.com/books/%d9%83%d8%aa%...     مؤسسة هنداوي   \n3  https://www.arab-books.com/books/%d9%83%d8%aa%...     مؤسسة هنداوي   \n4  https://www.arab-books.com/books/%d9%83%d8%aa%...     مؤسسة هنداوي   \n\n   Book_size_MB  Book_pages  \n0           2.0        52.0  \n1           2.0        56.0  \n2           2.0        48.0  \n3           2.0        54.0  \n4           2.0        48.0  ",
      "text/html": "<div>\n<style scoped>\n    .dataframe tbody tr th:only-of-type {\n        vertical-align: middle;\n    }\n\n    .dataframe tbody tr th {\n        vertical-align: top;\n    }\n\n    .dataframe thead th {\n        text-align: right;\n    }\n</style>\n<table border=\"1\" class=\"dataframe\">\n  <thead>\n    <tr style=\"text-align: right;\">\n      <th></th>\n      <th>Author</th>\n      <th>Book_Name</th>\n      <th>Book_Category</th>\n      <th>Book_url</th>\n      <th>Publishing_house</th>\n      <th>Book_size_MB</th>\n      <th>Book_pages</th>\n    </tr>\n  </thead>\n  <tbody>\n    <tr>\n      <th>0</th>\n      <td>الكاتب محمود سالم</td>\n      <td>لغز القبر الملكي</td>\n      <td>روايات بوليسية</td>\n      <td>https://www.arab-books.com/books/%d9%83%d8%aa%...</td>\n      <td>مؤسسة هنداوي</td>\n      <td>2.0</td>\n      <td>52.0</td>\n    </tr>\n    <tr>\n      <th>1</th>\n      <td>الكاتب محمود سالم</td>\n      <td>لغز الكوخ المحترق</td>\n      <td>روايات بوليسية</td>\n      <td>https://www.arab-books.com/books/%d9%83%d8%aa%...</td>\n      <td>مؤسسة هنداوي</td>\n      <td>2.0</td>\n      <td>56.0</td>\n    </tr>\n    <tr>\n      <th>2</th>\n      <td>الكاتب محمود سالم</td>\n      <td>لغز اللص الشبح</td>\n      <td>روايات بوليسية</td>\n      <td>https://www.arab-books.com/books/%d9%83%d8%aa%...</td>\n      <td>مؤسسة هنداوي</td>\n      <td>2.0</td>\n      <td>48.0</td>\n    </tr>\n    <tr>\n      <th>3</th>\n      <td>الكاتب محمود سالم</td>\n      <td>لغز المدينة العائمة</td>\n      <td>روايات بوليسية</td>\n      <td>https://www.arab-books.com/books/%d9%83%d8%aa%...</td>\n      <td>مؤسسة هنداوي</td>\n      <td>2.0</td>\n      <td>54.0</td>\n    </tr>\n    <tr>\n      <th>4</th>\n      <td>الكاتب محمود سالم</td>\n      <td>لغز المنزل رقم</td>\n      <td>روايات بوليسية</td>\n      <td>https://www.arab-books.com/books/%d9%83%d8%aa%...</td>\n      <td>مؤسسة هنداوي</td>\n      <td>2.0</td>\n      <td>48.0</td>\n    </tr>\n  </tbody>\n</table>\n</div>"
     },
     "execution_count": 45,
     "metadata": {},
     "output_type": "execute_result"
    }
   ],
   "source": [
    "df1=df1[df.columns[:-1]]\n",
    "df1.head()"
   ],
   "metadata": {
    "collapsed": false,
    "pycharm": {
     "name": "#%%\n"
    }
   }
  },
  {
   "cell_type": "code",
   "execution_count": 46,
   "outputs": [
    {
     "data": {
      "text/plain": "كتب اسلامية                                                                                 1202\nروايات بوليسية                                                                               618\nكتب روايات عربية                                                                             578\nكتب الأطفال                                                                                  228\nالعقيدة                                                                                      195\n                                                                                            ... \nكتب اسلامية-كتب الأدب العربي-كتب التاريخ-كتب التاريخ الإسلامي                                  1\nكتب القصص القصيرة المترجمة-كتب الروايات العالمية المترجمة-كتب روايات عربية                     1\nكتب الروايات العالمية المترجمة-كتب الأدب العالمي المترجم-كتب المسرحيات العالمية المترجمة       1\nالثقافة العامة-كتب السياسة                                                                     1\nكتب التنمية الذاتية-كتب تطوير الذات-كتب علم النفس                                              1\nName: Book_Category, Length: 274, dtype: int64"
     },
     "execution_count": 46,
     "metadata": {},
     "output_type": "execute_result"
    }
   ],
   "source": [
    "df1['Book_Category'].value_counts()"
   ],
   "metadata": {
    "collapsed": false,
    "pycharm": {
     "name": "#%%\n"
    }
   }
  },
  {
   "cell_type": "code",
   "execution_count": 47,
   "outputs": [
    {
     "data": {
      "text/plain": "كتب الأدب العربي                                                     38\nكتب الأدب العربي-كتب الروايات العالمية المترجمة-كتب روايات عربية     31\nكتب الأدب العربي-كتب روايات عربية                                    23\nكتب اسلامية                                                          23\nكتب الروايات العالمية المترجمة-كتب روايات عربية                      16\nكتب التاريخ-كتب التاريخ القديم                                       15\nكتب الفلسفة والمنطق                                                  10\nكتب اسلامية-كتب الأدب العربي                                          8\nكتب الأدب العربي-كتب التاريخ                                          2\nكتب الروايات العالمية المترجمة                                        1\nكتب الأدب العربي-كتب المسرحيات العالمية المترجمة-كتب روايات عربية     1\nكتب الفلسفة والمنطق-كتب علم النفس                                     1\nروايات بوليسية-كتب الروايات العالمية المترجمة                         1\nكتب أساطير-كتب التاريخ-كتب التاريخ القديم                             1\nكتب التاريخ-كتب التاريخ الحديث-كتب التاريخ القديم                     1\nكتب روايات عربية                                                      1\nكتب الأدب العربي-كتب روايات عربية-كتب و دواوين الشعر العربي           1\nكتب التنمية الذاتية-كتب العلوم الإنسانية-كتب الفلسفة والمنطق          1\nكتب الأدب العربي-كتب متنوعة                                           1\nكتب الأدب العربي-كتب الروايات العالمية المترجمة                       1\nالأدب-الثقافة العامة-كتب الأدب العربي                                 1\nكتب تطوير الذات-كتب متنوعة                                            1\nكتب اسلامية-كتب التاريخ                                               1\nأعلام وشخصيات-كتب الأدب العربي-كتب التاريخ-كتب التاريخ القديم         1\nكتب اسلامية-كتب التاريخ-كتب التاريخ القديم                            1\nالعلوم السياسية والاستراتيجية-كتب الأدب العربي                        1\nكتب أدب السجون-كتب الأدب العربي                                       1\nكتب اسلامية-كتب الأدب العربي-كتب روايات عربية                         1\nالثقافة العامة-كتب الأدب العربي                                       1\nكتب اسلامية-كتب الفلسفة والمنطق                                       1\nكتب الأدب العربي-كتب طبية                                             1\nكتب الأدب العربي-كتب التاريخ-كتب التاريخ القديم-كتب روايات عربية      1\nName: Book_Category, dtype: int64"
     },
     "execution_count": 47,
     "metadata": {},
     "output_type": "execute_result"
    }
   ],
   "source": [
    "df2[\"Book_Category\"].value_counts()"
   ],
   "metadata": {
    "collapsed": false,
    "pycharm": {
     "name": "#%%\n"
    }
   }
  },
  {
   "cell_type": "code",
   "execution_count": 48,
   "outputs": [],
   "source": [
    "#prepare the training for model 1\n",
    "x1_test=df1[df1[\"Book_Category\"].isna()][\"Book_Name\"].tolist()\n",
    "x1_train=df1[~(df1[\"Book_Category\"].isna())][\"Book_Name\"].tolist()\n",
    "y1_train=df1[~(df1[\"Book_Category\"].isna())][\"Book_Category\"].tolist()"
   ],
   "metadata": {
    "collapsed": false,
    "pycharm": {
     "name": "#%%\n"
    }
   }
  },
  {
   "cell_type": "code",
   "execution_count": 49,
   "outputs": [],
   "source": [
    "pipe=Pipeline([(\"Vector\",TfidfVectorizer(encoding='utf-8-sig',lowercase=False)),(\"Model\",LogisticRegression(max_iter=2000))])"
   ],
   "metadata": {
    "collapsed": false,
    "pycharm": {
     "name": "#%%\n"
    }
   }
  },
  {
   "cell_type": "code",
   "execution_count": 50,
   "outputs": [
    {
     "data": {
      "text/plain": "Pipeline(steps=[('Vector',\n                 TfidfVectorizer(encoding='utf-8-sig', lowercase=False)),\n                ('Model', LogisticRegression(max_iter=2000))])"
     },
     "execution_count": 50,
     "metadata": {},
     "output_type": "execute_result"
    }
   ],
   "source": [
    "pipe.fit(x1_train,y1_train)"
   ],
   "metadata": {
    "collapsed": false,
    "pycharm": {
     "name": "#%%\n"
    }
   }
  },
  {
   "cell_type": "code",
   "execution_count": 51,
   "outputs": [
    {
     "data": {
      "text/plain": "0.5893324036953111"
     },
     "execution_count": 51,
     "metadata": {},
     "output_type": "execute_result"
    }
   ],
   "source": [
    "pipe.score(x1_train,y1_train)"
   ],
   "metadata": {
    "collapsed": false,
    "pycharm": {
     "name": "#%%\n"
    }
   }
  },
  {
   "cell_type": "code",
   "execution_count": 52,
   "outputs": [
    {
     "data": {
      "text/plain": "array(['روايات بوليسية'], dtype='<U105')"
     },
     "execution_count": 52,
     "metadata": {},
     "output_type": "execute_result"
    }
   ],
   "source": [
    "pipe.predict([\"لغز القبر الملكي\"])"
   ],
   "metadata": {
    "collapsed": false,
    "pycharm": {
     "name": "#%%\n"
    }
   }
  },
  {
   "cell_type": "code",
   "execution_count": 53,
   "outputs": [],
   "source": [
    "pipe2=Pipeline([(\"Vector\",TfidfVectorizer(encoding='utf-8-sig',lowercase=False)),(\"Model\",MultinomialNB())])"
   ],
   "metadata": {
    "collapsed": false,
    "pycharm": {
     "name": "#%%\n"
    }
   }
  },
  {
   "cell_type": "code",
   "execution_count": 54,
   "outputs": [
    {
     "data": {
      "text/plain": "Pipeline(steps=[('Vector',\n                 TfidfVectorizer(encoding='utf-8-sig', lowercase=False)),\n                ('Model', MultinomialNB())])"
     },
     "execution_count": 54,
     "metadata": {},
     "output_type": "execute_result"
    }
   ],
   "source": [
    "pipe2.fit(x1_train,y1_train)"
   ],
   "metadata": {
    "collapsed": false,
    "pycharm": {
     "name": "#%%\n"
    }
   }
  },
  {
   "cell_type": "code",
   "execution_count": 55,
   "outputs": [
    {
     "data": {
      "text/plain": "0.5138574167683458"
     },
     "execution_count": 55,
     "metadata": {},
     "output_type": "execute_result"
    }
   ],
   "source": [
    "pipe2.score(x1_train,y1_train)"
   ],
   "metadata": {
    "collapsed": false,
    "pycharm": {
     "name": "#%%\n"
    }
   }
  },
  {
   "cell_type": "code",
   "execution_count": 56,
   "outputs": [
    {
     "data": {
      "text/plain": "array(['روايات بوليسية'], dtype='<U105')"
     },
     "execution_count": 56,
     "metadata": {},
     "output_type": "execute_result"
    }
   ],
   "source": [
    "pipe2.predict([\"لغز القبر الملكي\"])"
   ],
   "metadata": {
    "collapsed": false,
    "pycharm": {
     "name": "#%%\n"
    }
   }
  },
  {
   "cell_type": "code",
   "execution_count": 57,
   "outputs": [
    {
     "data": {
      "text/plain": "Pipeline(steps=[('Vector',\n                 TfidfVectorizer(encoding='utf-8-sig', lowercase=False)),\n                ('Model', RandomForestClassifier(n_estimators=700))])"
     },
     "execution_count": 57,
     "metadata": {},
     "output_type": "execute_result"
    }
   ],
   "source": [
    "pipe3=Pipeline([(\"Vector\",TfidfVectorizer(encoding='utf-8-sig',lowercase=False)),(\"Model\",RandomForestClassifier(n_estimators=700))])\n",
    "pipe3.fit(x1_train,y1_train)"
   ],
   "metadata": {
    "collapsed": false,
    "pycharm": {
     "name": "#%%\n"
    }
   }
  },
  {
   "cell_type": "code",
   "execution_count": 58,
   "outputs": [
    {
     "data": {
      "text/plain": "0.9855325082795886"
     },
     "execution_count": 58,
     "metadata": {},
     "output_type": "execute_result"
    }
   ],
   "source": [
    "pipe3.score(x1_train,y1_train)"
   ],
   "metadata": {
    "collapsed": false,
    "pycharm": {
     "name": "#%%\n"
    }
   }
  },
  {
   "cell_type": "code",
   "execution_count": 59,
   "outputs": [
    {
     "data": {
      "text/plain": "array(['روايات بوليسية'], dtype='<U105')"
     },
     "execution_count": 59,
     "metadata": {},
     "output_type": "execute_result"
    }
   ],
   "source": [
    "pipe3.predict([\"لغز القبر الملكي\"])"
   ],
   "metadata": {
    "collapsed": false,
    "pycharm": {
     "name": "#%%\n"
    }
   }
  },
  {
   "cell_type": "code",
   "execution_count": 60,
   "outputs": [],
   "source": [
    "#prepare the training for model 2\n",
    "x2_test=df2[df2[\"Book_Category\"].isna()][\"Quotation\"].tolist()\n",
    "x2_train=df2[~(df2[\"Book_Category\"].isna())][\"Quotation\"].tolist()\n",
    "y2_train=df2[~(df2[\"Book_Category\"].isna())][\"Book_Category\"].tolist()"
   ],
   "metadata": {
    "collapsed": false,
    "pycharm": {
     "name": "#%%\n"
    }
   }
  },
  {
   "cell_type": "code",
   "execution_count": 61,
   "outputs": [
    {
     "data": {
      "text/plain": "Pipeline(steps=[('Vector',\n                 TfidfVectorizer(encoding='utf-8-sig', lowercase=False)),\n                ('Model', LogisticRegression(max_iter=2000))])"
     },
     "execution_count": 61,
     "metadata": {},
     "output_type": "execute_result"
    }
   ],
   "source": [
    "pipe=Pipeline([(\"Vector\",TfidfVectorizer(encoding='utf-8-sig',lowercase=False)),(\"Model\",LogisticRegression(max_iter=2000))])\n",
    "pipe.fit(x2_train,y2_train)"
   ],
   "metadata": {
    "collapsed": false,
    "pycharm": {
     "name": "#%%\n"
    }
   }
  },
  {
   "cell_type": "code",
   "execution_count": 62,
   "outputs": [
    {
     "data": {
      "text/plain": "0.7724867724867724"
     },
     "execution_count": 62,
     "metadata": {},
     "output_type": "execute_result"
    }
   ],
   "source": [
    "pipe.score(x2_train,y2_train)"
   ],
   "metadata": {
    "collapsed": false,
    "pycharm": {
     "name": "#%%\n"
    }
   }
  },
  {
   "cell_type": "code",
   "execution_count": 63,
   "outputs": [
    {
     "data": {
      "text/plain": "array(['كتب الأدب العربي'], dtype='<U65')"
     },
     "execution_count": 63,
     "metadata": {},
     "output_type": "execute_result"
    }
   ],
   "source": [
    "pipe.predict([\"ترون بأنفسكم نماذج من السلوك عند بعض الحيوانات يثير الاستغراب والدهشة ويبعث على التأمل ذلك أنه سلوك ينطق بالحكمة والعقل ويبين عن وعي خارق وبعد نظر عميق وعند قراءة هذه النماذج سوف يقفز إلى أذهانكم ...\"])"
   ],
   "metadata": {
    "collapsed": false,
    "pycharm": {
     "name": "#%%\n"
    }
   }
  },
  {
   "cell_type": "code",
   "execution_count": 64,
   "outputs": [],
   "source": [
    "pipe2 = Pipeline([(\"Vector\", TfidfVectorizer(encoding='utf-8-sig', lowercase=False)), (\"Model\", MultinomialNB())])"
   ],
   "metadata": {
    "collapsed": false,
    "pycharm": {
     "name": "#%%\n"
    }
   }
  },
  {
   "cell_type": "code",
   "execution_count": 65,
   "outputs": [
    {
     "data": {
      "text/plain": "0.6825396825396826"
     },
     "execution_count": 65,
     "metadata": {},
     "output_type": "execute_result"
    }
   ],
   "source": [
    "pipe2.fit(x2_train,y2_train)\n",
    "pipe2.score(x2_train,y2_train)"
   ],
   "metadata": {
    "collapsed": false,
    "pycharm": {
     "name": "#%%\n"
    }
   }
  },
  {
   "cell_type": "code",
   "execution_count": 66,
   "outputs": [
    {
     "data": {
      "text/plain": "array(['كتب الأدب العربي'], dtype='<U65')"
     },
     "execution_count": 66,
     "metadata": {},
     "output_type": "execute_result"
    }
   ],
   "source": [
    "pipe2.predict([\"ترون بأنفسكم نماذج من السلوك عند بعض الحيوانات يثير الاستغراب والدهشة ويبعث على التأمل ذلك أنه سلوك ينطق بالحكمة والعقل ويبين عن وعي خارق وبعد نظر عميق وعند قراءة هذه النماذج سوف يقفز إلى أذهانكم ...\"])"
   ],
   "metadata": {
    "collapsed": false,
    "pycharm": {
     "name": "#%%\n"
    }
   }
  },
  {
   "cell_type": "code",
   "execution_count": 67,
   "outputs": [
    {
     "data": {
      "text/plain": "Pipeline(steps=[('Vector',\n                 TfidfVectorizer(encoding='utf-8-sig', lowercase=False)),\n                ('Model', RandomForestClassifier(n_estimators=700))])"
     },
     "execution_count": 67,
     "metadata": {},
     "output_type": "execute_result"
    }
   ],
   "source": [
    "pipe3=Pipeline([(\"Vector\",TfidfVectorizer(encoding='utf-8-sig',lowercase=False)),(\"Model\",RandomForestClassifier(n_estimators=700))])\n",
    "pipe3.fit(x2_train,y2_train)"
   ],
   "metadata": {
    "collapsed": false,
    "pycharm": {
     "name": "#%%\n"
    }
   }
  },
  {
   "cell_type": "code",
   "execution_count": 68,
   "outputs": [
    {
     "data": {
      "text/plain": "0.9682539682539683"
     },
     "execution_count": 68,
     "metadata": {},
     "output_type": "execute_result"
    }
   ],
   "source": [
    "pipe3.score(x2_train,y2_train)"
   ],
   "metadata": {
    "collapsed": false,
    "pycharm": {
     "name": "#%%\n"
    }
   }
  },
  {
   "cell_type": "code",
   "execution_count": 69,
   "outputs": [
    {
     "data": {
      "text/plain": "array(['كتب الأدب العربي'], dtype='<U65')"
     },
     "execution_count": 69,
     "metadata": {},
     "output_type": "execute_result"
    }
   ],
   "source": [
    "pipe3.predict([\"ترون بأنفسكم نماذج من السلوك عند بعض الحيوانات يثير الاستغراب والدهشة ويبعث على التأمل ذلك أنه سلوك ينطق بالحكمة والعقل ويبين عن وعي خارق وبعد نظر عميق وعند قراءة هذه النماذج سوف يقفز إلى أذهانكم ...\"])"
   ],
   "metadata": {
    "collapsed": false,
    "pycharm": {
     "name": "#%%\n"
    }
   }
  },
  {
   "cell_type": "code",
   "execution_count": null,
   "outputs": [],
   "source": [],
   "metadata": {
    "collapsed": false,
    "pycharm": {
     "name": "#%%\n"
    }
   }
  }
 ],
 "metadata": {
  "kernelspec": {
   "display_name": "Python 3",
   "language": "python",
   "name": "python3"
  },
  "language_info": {
   "codemirror_mode": {
    "name": "ipython",
    "version": 2
   },
   "file_extension": ".py",
   "mimetype": "text/x-python",
   "name": "python",
   "nbconvert_exporter": "python",
   "pygments_lexer": "ipython2",
   "version": "2.7.6"
  }
 },
 "nbformat": 4,
 "nbformat_minor": 0
}