{
 "cells": [
  {
   "cell_type": "code",
   "execution_count": 58,
   "outputs": [],
   "source": [
    "from sklearn.datasets import load_files\n",
    "from collections import Counter\n",
    "from nltk.tokenize import word_tokenize\n",
    "import pandas as pd\n",
    "import re\n",
    "pd.options.mode.chained_assignment = None"
   ],
   "metadata": {
    "collapsed": false,
    "pycharm": {
     "name": "#%%\n"
    }
   }
  },
  {
   "cell_type": "code",
   "execution_count": 59,
   "outputs": [],
   "source": [
    "class AutoCorrect:\n",
    "    def from_file(self,file):\n",
    "        vocablist=[]\n",
    "        with open(file,encoding='utf-8-sig',mode='r') as file:\n",
    "            lines=file.readlines()\n",
    "            for line in lines:\n",
    "                vocablist +=[word for word in re.findall(r'\\w+',line) if len(word)>1]\n",
    "        vocab_counter=Counter(vocablist)\n",
    "        totalwords=sum(vocab_counter.values())\n",
    "        self.vocab=set(vocablist)\n",
    "        self.word_prob={word:vocab_counter[word]/totalwords for word in vocab_counter.keys()}\n",
    "\n",
    "    def from_dir(self,dir):\n",
    "        dataset=load_files(dir,encoding='utf-8-sig')\n",
    "        vocablist=[]\n",
    "        for doc in dataset['data']:\n",
    "            vocablist +=[word for word in re.findall(r'\\w+',doc) if len(word)>1]\n",
    "        vocab_counter=Counter(vocablist)\n",
    "        totalwords=sum(vocab_counter.values())\n",
    "        self.vocab=set(vocablist)\n",
    "        self.word_prob={word:vocab_counter[word]/totalwords for word in vocab_counter.keys()}\n",
    "\n",
    "\n",
    "    def _level_one_edits(self,word):\n",
    "        letters=u'ابتةثجحخدذرزسشصضطظعغفقكلمنهويءآأؤإئ'\n",
    "        splits=[(word[:part],word[part:]) for part in range(0,len(word))]\n",
    "        deletes=[part1+part2[1:] for part1,part2 in splits if part2]\n",
    "        swaps=[part1+part2[0]+part2[1]+part2[2:] for part1,part2 in splits if len(part2) > 1]\n",
    "        replaces=[part1+c+part2[1:] for part1,part2 in splits if part2 for c in letters]\n",
    "        inserts=[part1+c+part2 for part1,part2 in splits for c in letters]\n",
    "        return set(deletes+swaps+replaces+inserts)\n",
    "\n",
    "    def _level_two_edits(self,word):\n",
    "        return set(e2 for e1 in self._level_one_edits(word) for e2 in self._level_one_edits(e1))\n",
    "\n",
    "    def check(self,word):\n",
    "        if word in self.vocab:\n",
    "            return True\n",
    "        candidates =list(self._level_one_edits(word))+list(self._level_two_edits(word))+[word]\n",
    "        valid_candidates = [w for w in candidates if w in self.vocab]\n",
    "        if len(valid_candidates) > 0 :\n",
    "            return sorted([(c, self.word_prob[c]) for c in valid_candidates], key=lambda tup: tup[1], reverse=True)\n",
    "        else:\n",
    "            return False\n",
    "\n",
    "    def correct(self,word):\n",
    "        if word in self.vocab:\n",
    "            return word\n",
    "        candidates =list(self._level_one_edits(word))+list(self._level_two_edits(word))+[word]\n",
    "        valid_candidates = [w for w in candidates if w in self.vocab]\n",
    "        if len(valid_candidates) > 0 :\n",
    "            return sorted([(c, self.word_prob[c]) for c in valid_candidates], key=lambda tup: tup[1], reverse=True)[0][0]\n",
    "        else:\n",
    "            return word\n"
   ],
   "metadata": {
    "collapsed": false,
    "pycharm": {
     "name": "#%%\n"
    }
   }
  },
  {
   "cell_type": "code",
   "execution_count": 60,
   "outputs": [],
   "source": [
    "autoCorrect=AutoCorrect()"
   ],
   "metadata": {
    "collapsed": false,
    "pycharm": {
     "name": "#%%\n"
    }
   }
  },
  {
   "cell_type": "code",
   "execution_count": 61,
   "outputs": [],
   "source": [
    "autoCorrect.from_dir('Khaleej-2004')"
   ],
   "metadata": {
    "collapsed": false,
    "pycharm": {
     "name": "#%%\n"
    }
   }
  },
  {
   "cell_type": "code",
   "execution_count": 62,
   "outputs": [
    {
     "data": {
      "text/plain": "              Author            Book_Name   Book_Category  \\\n0  الكاتب محمود سالم     لغز القبر الملكي  روايات بوليسية   \n1  الكاتب محمود سالم    لغز الكوخ المحترق  روايات بوليسية   \n2  الكاتب محمود سالم       لغز اللص الشبح  روايات بوليسية   \n3  الكاتب محمود سالم  لغز المدينة العائمة  روايات بوليسية   \n4  الكاتب محمود سالم    لغز المنزل رقم 98  روايات بوليسية   \n\n                                            Book_url Publishing_house  \\\n0  https://www.arab-books.com/books/%d9%83%d8%aa%...     مؤسسة هنداوي   \n1  https://www.arab-books.com/books/%d9%83%d8%aa%...     مؤسسة هنداوي   \n2  https://www.arab-books.com/books/%d9%83%d8%aa%...     مؤسسة هنداوي   \n3  https://www.arab-books.com/books/%d9%83%d8%aa%...     مؤسسة هنداوي   \n4  https://www.arab-books.com/books/%d9%83%d8%aa%...     مؤسسة هنداوي   \n\n   Book_size_MB  Book_pages Quotation  \n0           2.0        52.0       NaN  \n1           2.0        56.0       NaN  \n2           2.0        48.0       NaN  \n3           2.0        54.0       NaN  \n4           2.0        48.0       NaN  ",
      "text/html": "<div>\n<style scoped>\n    .dataframe tbody tr th:only-of-type {\n        vertical-align: middle;\n    }\n\n    .dataframe tbody tr th {\n        vertical-align: top;\n    }\n\n    .dataframe thead th {\n        text-align: right;\n    }\n</style>\n<table border=\"1\" class=\"dataframe\">\n  <thead>\n    <tr style=\"text-align: right;\">\n      <th></th>\n      <th>Author</th>\n      <th>Book_Name</th>\n      <th>Book_Category</th>\n      <th>Book_url</th>\n      <th>Publishing_house</th>\n      <th>Book_size_MB</th>\n      <th>Book_pages</th>\n      <th>Quotation</th>\n    </tr>\n  </thead>\n  <tbody>\n    <tr>\n      <th>0</th>\n      <td>الكاتب محمود سالم</td>\n      <td>لغز القبر الملكي</td>\n      <td>روايات بوليسية</td>\n      <td>https://www.arab-books.com/books/%d9%83%d8%aa%...</td>\n      <td>مؤسسة هنداوي</td>\n      <td>2.0</td>\n      <td>52.0</td>\n      <td>NaN</td>\n    </tr>\n    <tr>\n      <th>1</th>\n      <td>الكاتب محمود سالم</td>\n      <td>لغز الكوخ المحترق</td>\n      <td>روايات بوليسية</td>\n      <td>https://www.arab-books.com/books/%d9%83%d8%aa%...</td>\n      <td>مؤسسة هنداوي</td>\n      <td>2.0</td>\n      <td>56.0</td>\n      <td>NaN</td>\n    </tr>\n    <tr>\n      <th>2</th>\n      <td>الكاتب محمود سالم</td>\n      <td>لغز اللص الشبح</td>\n      <td>روايات بوليسية</td>\n      <td>https://www.arab-books.com/books/%d9%83%d8%aa%...</td>\n      <td>مؤسسة هنداوي</td>\n      <td>2.0</td>\n      <td>48.0</td>\n      <td>NaN</td>\n    </tr>\n    <tr>\n      <th>3</th>\n      <td>الكاتب محمود سالم</td>\n      <td>لغز المدينة العائمة</td>\n      <td>روايات بوليسية</td>\n      <td>https://www.arab-books.com/books/%d9%83%d8%aa%...</td>\n      <td>مؤسسة هنداوي</td>\n      <td>2.0</td>\n      <td>54.0</td>\n      <td>NaN</td>\n    </tr>\n    <tr>\n      <th>4</th>\n      <td>الكاتب محمود سالم</td>\n      <td>لغز المنزل رقم 98</td>\n      <td>روايات بوليسية</td>\n      <td>https://www.arab-books.com/books/%d9%83%d8%aa%...</td>\n      <td>مؤسسة هنداوي</td>\n      <td>2.0</td>\n      <td>48.0</td>\n      <td>NaN</td>\n    </tr>\n  </tbody>\n</table>\n</div>"
     },
     "execution_count": 62,
     "metadata": {},
     "output_type": "execute_result"
    }
   ],
   "source": [
    "df=pd.read_csv('Cleaned_data.csv')\n",
    "df.head()"
   ],
   "metadata": {
    "collapsed": false,
    "pycharm": {
     "name": "#%%\n"
    }
   }
  },
  {
   "cell_type": "code",
   "execution_count": 63,
   "outputs": [
    {
     "data": {
      "text/plain": "                     Author                  Book_Name  \\\n7         الكاتب هارون يحيى        التضحية عند الحيوان   \n8         الكاتب هارون يحيى                معجزة الذرة   \n9         الكاتب هارون يحيى                  لا تتجاهل   \n10        الكاتب هارون يحيى        الحياة في سبيل الله   \n11        الكاتب هارون يحيى          العظمة في كل مكان   \n...                     ...                        ...   \n1182  الكاتب الياس ابو شبكة   القيثارة لإلياس أبو شبكة   \n1183  الكاتب الياس ابو شبكة              المريض الصامت   \n1185  الكاتب الياس ابو شبكة            العمال الصالحون   \n1186  الكاتب الياس ابو شبكة  الألحان ومقتطفات من غلواء   \n1187  الكاتب الياس ابو شبكة     الرسوم لإلياس ابو شبكة   \n\n                          Book_Category  \\\n7           كتب الأدب العربي-كتب متنوعة   \n8            كتب تطوير الذات-كتب متنوعة   \n9                      كتب الأدب العربي   \n10                          كتب اسلامية   \n11                     كتب الأدب العربي   \n...                                 ...   \n1182  كتب الأدب العربي-كتب روايات عربية   \n1183  كتب الأدب العربي-كتب روايات عربية   \n1185  كتب الأدب العربي-كتب روايات عربية   \n1186  كتب الأدب العربي-كتب روايات عربية   \n1187  كتب الأدب العربي-كتب روايات عربية   \n\n                                               Book_url Publishing_house  \\\n7     https://www.arab-books.com/books/%d9%83%d8%aa%...     عدنان أوكطار   \n8     https://www.arab-books.com/books/%d9%83%d8%aa%...     عدنان أوكطار   \n9     https://www.arab-books.com/books/%d9%83%d8%aa%...     عدنان أوكطار   \n10    https://www.arab-books.com/books/%d9%83%d8%aa%...     عدنان أوكطار   \n11    https://www.arab-books.com/books/%d9%83%d8%aa%...     عدنان أوكطار   \n...                                                 ...              ...   \n1182  https://www.arab-books.com/books/%d9%83%d8%aa%...           هنداوي   \n1183  https://www.arab-books.com/books/%d9%83%d8%aa%...           هنداوي   \n1185  https://www.arab-books.com/books/%d9%83%d8%aa%...           هنداوي   \n1186  https://www.arab-books.com/books/%d9%83%d8%aa%...           هنداوي   \n1187  https://www.arab-books.com/books/%d9%83%d8%aa%...           هنداوي   \n\n      Book_size_MB  Book_pages  \\\n7             5.00       160.0   \n8             3.41       136.0   \n9             3.00       100.0   \n10            2.11       100.0   \n11            5.30       140.0   \n...            ...         ...   \n1182          5.00       198.0   \n1183          1.00        30.0   \n1185          1.00        80.0   \n1186         13.00        22.0   \n1187          2.00       124.0   \n\n                                              Quotation  \n7     ترون بأنفسكم نماذج من السلوك عند بعض الحيوانات...  \n8     إن هذا الكتاب يبين وبالدليل العلمي أن الذي خلق...  \n9     هذه الحقيقة بالإضافة إلى حقائق كونية أخرى يستع...  \n10    أما المنافقون فهم في سبيل الفوز بما قال عنه ال...  \n11    ولو سال عن كيفية التي يتحرك بها كل شيء هذا الك...  \n...                                                 ...  \n1182  لقد فتك ت بك يد أثيمة في بلاد الغربة بعيد ا عن...  \n1183  إن ما تقرأ في هذه الصفحات لهو حقيقة أليمة نطقت...  \n1185  كان لبيب راغب ولد ا في العاشرة من سنيه جميل ال...  \n1186  إلى الحصاد جنى الجهاد قلب البلاد يحيا بنا هيا ...  \n1187  منتصب انتصاب الج ذع في مقلتيه تمو جات تجيش في ...  \n\n[190 rows x 8 columns]",
      "text/html": "<div>\n<style scoped>\n    .dataframe tbody tr th:only-of-type {\n        vertical-align: middle;\n    }\n\n    .dataframe tbody tr th {\n        vertical-align: top;\n    }\n\n    .dataframe thead th {\n        text-align: right;\n    }\n</style>\n<table border=\"1\" class=\"dataframe\">\n  <thead>\n    <tr style=\"text-align: right;\">\n      <th></th>\n      <th>Author</th>\n      <th>Book_Name</th>\n      <th>Book_Category</th>\n      <th>Book_url</th>\n      <th>Publishing_house</th>\n      <th>Book_size_MB</th>\n      <th>Book_pages</th>\n      <th>Quotation</th>\n    </tr>\n  </thead>\n  <tbody>\n    <tr>\n      <th>7</th>\n      <td>الكاتب هارون يحيى</td>\n      <td>التضحية عند الحيوان</td>\n      <td>كتب الأدب العربي-كتب متنوعة</td>\n      <td>https://www.arab-books.com/books/%d9%83%d8%aa%...</td>\n      <td>عدنان أوكطار</td>\n      <td>5.00</td>\n      <td>160.0</td>\n      <td>ترون بأنفسكم نماذج من السلوك عند بعض الحيوانات...</td>\n    </tr>\n    <tr>\n      <th>8</th>\n      <td>الكاتب هارون يحيى</td>\n      <td>معجزة الذرة</td>\n      <td>كتب تطوير الذات-كتب متنوعة</td>\n      <td>https://www.arab-books.com/books/%d9%83%d8%aa%...</td>\n      <td>عدنان أوكطار</td>\n      <td>3.41</td>\n      <td>136.0</td>\n      <td>إن هذا الكتاب يبين وبالدليل العلمي أن الذي خلق...</td>\n    </tr>\n    <tr>\n      <th>9</th>\n      <td>الكاتب هارون يحيى</td>\n      <td>لا تتجاهل</td>\n      <td>كتب الأدب العربي</td>\n      <td>https://www.arab-books.com/books/%d9%83%d8%aa%...</td>\n      <td>عدنان أوكطار</td>\n      <td>3.00</td>\n      <td>100.0</td>\n      <td>هذه الحقيقة بالإضافة إلى حقائق كونية أخرى يستع...</td>\n    </tr>\n    <tr>\n      <th>10</th>\n      <td>الكاتب هارون يحيى</td>\n      <td>الحياة في سبيل الله</td>\n      <td>كتب اسلامية</td>\n      <td>https://www.arab-books.com/books/%d9%83%d8%aa%...</td>\n      <td>عدنان أوكطار</td>\n      <td>2.11</td>\n      <td>100.0</td>\n      <td>أما المنافقون فهم في سبيل الفوز بما قال عنه ال...</td>\n    </tr>\n    <tr>\n      <th>11</th>\n      <td>الكاتب هارون يحيى</td>\n      <td>العظمة في كل مكان</td>\n      <td>كتب الأدب العربي</td>\n      <td>https://www.arab-books.com/books/%d9%83%d8%aa%...</td>\n      <td>عدنان أوكطار</td>\n      <td>5.30</td>\n      <td>140.0</td>\n      <td>ولو سال عن كيفية التي يتحرك بها كل شيء هذا الك...</td>\n    </tr>\n    <tr>\n      <th>...</th>\n      <td>...</td>\n      <td>...</td>\n      <td>...</td>\n      <td>...</td>\n      <td>...</td>\n      <td>...</td>\n      <td>...</td>\n      <td>...</td>\n    </tr>\n    <tr>\n      <th>1182</th>\n      <td>الكاتب الياس ابو شبكة</td>\n      <td>القيثارة لإلياس أبو شبكة</td>\n      <td>كتب الأدب العربي-كتب روايات عربية</td>\n      <td>https://www.arab-books.com/books/%d9%83%d8%aa%...</td>\n      <td>هنداوي</td>\n      <td>5.00</td>\n      <td>198.0</td>\n      <td>لقد فتك ت بك يد أثيمة في بلاد الغربة بعيد ا عن...</td>\n    </tr>\n    <tr>\n      <th>1183</th>\n      <td>الكاتب الياس ابو شبكة</td>\n      <td>المريض الصامت</td>\n      <td>كتب الأدب العربي-كتب روايات عربية</td>\n      <td>https://www.arab-books.com/books/%d9%83%d8%aa%...</td>\n      <td>هنداوي</td>\n      <td>1.00</td>\n      <td>30.0</td>\n      <td>إن ما تقرأ في هذه الصفحات لهو حقيقة أليمة نطقت...</td>\n    </tr>\n    <tr>\n      <th>1185</th>\n      <td>الكاتب الياس ابو شبكة</td>\n      <td>العمال الصالحون</td>\n      <td>كتب الأدب العربي-كتب روايات عربية</td>\n      <td>https://www.arab-books.com/books/%d9%83%d8%aa%...</td>\n      <td>هنداوي</td>\n      <td>1.00</td>\n      <td>80.0</td>\n      <td>كان لبيب راغب ولد ا في العاشرة من سنيه جميل ال...</td>\n    </tr>\n    <tr>\n      <th>1186</th>\n      <td>الكاتب الياس ابو شبكة</td>\n      <td>الألحان ومقتطفات من غلواء</td>\n      <td>كتب الأدب العربي-كتب روايات عربية</td>\n      <td>https://www.arab-books.com/books/%d9%83%d8%aa%...</td>\n      <td>هنداوي</td>\n      <td>13.00</td>\n      <td>22.0</td>\n      <td>إلى الحصاد جنى الجهاد قلب البلاد يحيا بنا هيا ...</td>\n    </tr>\n    <tr>\n      <th>1187</th>\n      <td>الكاتب الياس ابو شبكة</td>\n      <td>الرسوم لإلياس ابو شبكة</td>\n      <td>كتب الأدب العربي-كتب روايات عربية</td>\n      <td>https://www.arab-books.com/books/%d9%83%d8%aa%...</td>\n      <td>هنداوي</td>\n      <td>2.00</td>\n      <td>124.0</td>\n      <td>منتصب انتصاب الج ذع في مقلتيه تمو جات تجيش في ...</td>\n    </tr>\n  </tbody>\n</table>\n<p>190 rows × 8 columns</p>\n</div>"
     },
     "execution_count": 63,
     "metadata": {},
     "output_type": "execute_result"
    }
   ],
   "source": [
    "df[~(df[\"Quotation\"].isna())]"
   ],
   "metadata": {
    "collapsed": false,
    "pycharm": {
     "name": "#%%\n"
    }
   }
  },
  {
   "cell_type": "code",
   "execution_count": 86,
   "outputs": [],
   "source": [
    "#Auto Correct data\n",
    "book_names=[]\n",
    "book_Quotation=[]\n",
    "for record in df[\"Book_Name\"]:\n",
    "    record=re.sub(\"\\d\",\"\",record)\n",
    "    words=word_tokenize(record)\n",
    "    words_new=[]\n",
    "    for word in words:\n",
    "        if len(word) < 2:\n",
    "            words_new.append(autoCorrect.correct(word))\n",
    "        else:\n",
    "            words_new.append(word)\n",
    "    book_names.append(' '.join(words_new))\n",
    "\n",
    "for record in df[~(df[\"Quotation\"].isna())][\"Quotation\"]:\n",
    "    record=re.sub(\"\\d\",\"\",record)\n",
    "    words=word_tokenize(record)\n",
    "    words_new=[]\n",
    "    for word in words:\n",
    "        if len(word) < 2:\n",
    "            words_new.append(autoCorrect.correct(word))\n",
    "        else:\n",
    "            words_new.append(word)\n",
    "    book_Quotation.append(' '.join(words_new))"
   ],
   "metadata": {
    "collapsed": false,
    "pycharm": {
     "name": "#%%\n"
    }
   }
  },
  {
   "cell_type": "code",
   "execution_count": 87,
   "outputs": [],
   "source": [
    "df[\"Book_Name\"]=book_names\n",
    "df[~(df[\"Quotation\"].isna())][\"Quotation\"]=book_Quotation"
   ],
   "metadata": {
    "collapsed": false,
    "pycharm": {
     "name": "#%%\n"
    }
   }
  },
  {
   "cell_type": "code",
   "execution_count": 88,
   "outputs": [
    {
     "data": {
      "text/plain": "                    Author                                          Book_Name  \\\n0        الكاتب محمود سالم                                   لغز القبر الملكي   \n1        الكاتب محمود سالم                                  لغز الكوخ المحترق   \n2        الكاتب محمود سالم                                     لغز اللص الشبح   \n3        الكاتب محمود سالم                                لغز المدينة العائمة   \n4        الكاتب محمود سالم                                     لغز المنزل رقم   \n...                    ...                                                ...   \n5975    الكاتب فرانز كافكا                          رواية التحول فرانتس كافكا   \n5976  الشيخ عبدالوهاب خلاف         احكام الاحوال الشخصية في الشريعة الاسلامية   \n5977           الله عز وجل  Corán traducido al español في القران نسخة اسبانية   \n5978           الله عز وجل  القران الكريم باللغة الانجليزية -Quran with En...   \n5979           الله عز وجل                         Le Saint Coran en français   \n\n                       Book_Category  \\\n0                     روايات بوليسية   \n1                     روايات بوليسية   \n2                     روايات بوليسية   \n3                     روايات بوليسية   \n4                     روايات بوليسية   \n...                              ...   \n5975  كتب الروايات العالمية المترجمة   \n5976                  كتب أصول الفقه   \n5977                   القرآن الكريم   \n5978                   القرآن الكريم   \n5979                   القرآن الكريم   \n\n                                               Book_url   Publishing_house  \\\n0     https://www.arab-books.com/books/%d9%83%d8%aa%...       مؤسسة هنداوي   \n1     https://www.arab-books.com/books/%d9%83%d8%aa%...       مؤسسة هنداوي   \n2     https://www.arab-books.com/books/%d9%83%d8%aa%...       مؤسسة هنداوي   \n3     https://www.arab-books.com/books/%d9%83%d8%aa%...       مؤسسة هنداوي   \n4     https://www.arab-books.com/books/%d9%83%d8%aa%...       مؤسسة هنداوي   \n...                                                 ...                ...   \n5975  https://www.arab-books.com/books/%d8%b1%d9%88%...      منشورات الجمل   \n5976  https://www.arab-books.com/books/%d9%83%d8%aa%...  دار الكتب العلمية   \n5977  https://www.arab-books.com/books/coran-traduci...     محمد رسول الله   \n5978  https://www.arab-books.com/books/%d8%a7%d9%84%...     محمد رسول الله   \n5979  https://www.arab-books.com/books/le-saint-cora...                NaN   \n\n      Book_size_MB  Book_pages Quotation  \n0             2.00        52.0       NaN  \n1             2.00        56.0       NaN  \n2             2.00        48.0       NaN  \n3             2.00        54.0       NaN  \n4             2.00        48.0       NaN  \n...            ...         ...       ...  \n5975          1.64       106.0       NaN  \n5976         14.00       289.0       NaN  \n5977         26.00      1088.0       NaN  \n5978         30.00       978.0       NaN  \n5979         31.00      1235.0       NaN  \n\n[7235 rows x 8 columns]",
      "text/html": "<div>\n<style scoped>\n    .dataframe tbody tr th:only-of-type {\n        vertical-align: middle;\n    }\n\n    .dataframe tbody tr th {\n        vertical-align: top;\n    }\n\n    .dataframe thead th {\n        text-align: right;\n    }\n</style>\n<table border=\"1\" class=\"dataframe\">\n  <thead>\n    <tr style=\"text-align: right;\">\n      <th></th>\n      <th>Author</th>\n      <th>Book_Name</th>\n      <th>Book_Category</th>\n      <th>Book_url</th>\n      <th>Publishing_house</th>\n      <th>Book_size_MB</th>\n      <th>Book_pages</th>\n      <th>Quotation</th>\n    </tr>\n  </thead>\n  <tbody>\n    <tr>\n      <th>0</th>\n      <td>الكاتب محمود سالم</td>\n      <td>لغز القبر الملكي</td>\n      <td>روايات بوليسية</td>\n      <td>https://www.arab-books.com/books/%d9%83%d8%aa%...</td>\n      <td>مؤسسة هنداوي</td>\n      <td>2.00</td>\n      <td>52.0</td>\n      <td>NaN</td>\n    </tr>\n    <tr>\n      <th>1</th>\n      <td>الكاتب محمود سالم</td>\n      <td>لغز الكوخ المحترق</td>\n      <td>روايات بوليسية</td>\n      <td>https://www.arab-books.com/books/%d9%83%d8%aa%...</td>\n      <td>مؤسسة هنداوي</td>\n      <td>2.00</td>\n      <td>56.0</td>\n      <td>NaN</td>\n    </tr>\n    <tr>\n      <th>2</th>\n      <td>الكاتب محمود سالم</td>\n      <td>لغز اللص الشبح</td>\n      <td>روايات بوليسية</td>\n      <td>https://www.arab-books.com/books/%d9%83%d8%aa%...</td>\n      <td>مؤسسة هنداوي</td>\n      <td>2.00</td>\n      <td>48.0</td>\n      <td>NaN</td>\n    </tr>\n    <tr>\n      <th>3</th>\n      <td>الكاتب محمود سالم</td>\n      <td>لغز المدينة العائمة</td>\n      <td>روايات بوليسية</td>\n      <td>https://www.arab-books.com/books/%d9%83%d8%aa%...</td>\n      <td>مؤسسة هنداوي</td>\n      <td>2.00</td>\n      <td>54.0</td>\n      <td>NaN</td>\n    </tr>\n    <tr>\n      <th>4</th>\n      <td>الكاتب محمود سالم</td>\n      <td>لغز المنزل رقم</td>\n      <td>روايات بوليسية</td>\n      <td>https://www.arab-books.com/books/%d9%83%d8%aa%...</td>\n      <td>مؤسسة هنداوي</td>\n      <td>2.00</td>\n      <td>48.0</td>\n      <td>NaN</td>\n    </tr>\n    <tr>\n      <th>...</th>\n      <td>...</td>\n      <td>...</td>\n      <td>...</td>\n      <td>...</td>\n      <td>...</td>\n      <td>...</td>\n      <td>...</td>\n      <td>...</td>\n    </tr>\n    <tr>\n      <th>5975</th>\n      <td>الكاتب فرانز كافكا</td>\n      <td>رواية التحول فرانتس كافكا</td>\n      <td>كتب الروايات العالمية المترجمة</td>\n      <td>https://www.arab-books.com/books/%d8%b1%d9%88%...</td>\n      <td>منشورات الجمل</td>\n      <td>1.64</td>\n      <td>106.0</td>\n      <td>NaN</td>\n    </tr>\n    <tr>\n      <th>5976</th>\n      <td>الشيخ عبدالوهاب خلاف</td>\n      <td>احكام الاحوال الشخصية في الشريعة الاسلامية</td>\n      <td>كتب أصول الفقه</td>\n      <td>https://www.arab-books.com/books/%d9%83%d8%aa%...</td>\n      <td>دار الكتب العلمية</td>\n      <td>14.00</td>\n      <td>289.0</td>\n      <td>NaN</td>\n    </tr>\n    <tr>\n      <th>5977</th>\n      <td>الله عز وجل</td>\n      <td>Corán traducido al español في القران نسخة اسبانية</td>\n      <td>القرآن الكريم</td>\n      <td>https://www.arab-books.com/books/coran-traduci...</td>\n      <td>محمد رسول الله</td>\n      <td>26.00</td>\n      <td>1088.0</td>\n      <td>NaN</td>\n    </tr>\n    <tr>\n      <th>5978</th>\n      <td>الله عز وجل</td>\n      <td>القران الكريم باللغة الانجليزية -Quran with En...</td>\n      <td>القرآن الكريم</td>\n      <td>https://www.arab-books.com/books/%d8%a7%d9%84%...</td>\n      <td>محمد رسول الله</td>\n      <td>30.00</td>\n      <td>978.0</td>\n      <td>NaN</td>\n    </tr>\n    <tr>\n      <th>5979</th>\n      <td>الله عز وجل</td>\n      <td>Le Saint Coran en français</td>\n      <td>القرآن الكريم</td>\n      <td>https://www.arab-books.com/books/le-saint-cora...</td>\n      <td>NaN</td>\n      <td>31.00</td>\n      <td>1235.0</td>\n      <td>NaN</td>\n    </tr>\n  </tbody>\n</table>\n<p>7235 rows × 8 columns</p>\n</div>"
     },
     "execution_count": 88,
     "metadata": {},
     "output_type": "execute_result"
    }
   ],
   "source": [
    "df[\"Book_Category\"]=df[\"Book_Category\"].str.split('-')\n",
    "df=df.explode(\"Book_Category\")\n",
    "df"
   ],
   "metadata": {
    "collapsed": false,
    "pycharm": {
     "name": "#%%\n"
    }
   }
  },
  {
   "cell_type": "code",
   "execution_count": 89,
   "outputs": [],
   "source": [
    "#split data to two models one with Quotation and with not\n",
    "df1=df[df[\"Quotation\"].isna()]\n",
    "df2=df[~(df[\"Quotation\"].isna())]"
   ],
   "metadata": {
    "collapsed": false,
    "pycharm": {
     "name": "#%%\n"
    }
   }
  },
  {
   "cell_type": "code",
   "execution_count": 90,
   "outputs": [
    {
     "data": {
      "text/plain": "              Author            Book_Name   Book_Category  \\\n0  الكاتب محمود سالم     لغز القبر الملكي  روايات بوليسية   \n1  الكاتب محمود سالم    لغز الكوخ المحترق  روايات بوليسية   \n2  الكاتب محمود سالم       لغز اللص الشبح  روايات بوليسية   \n3  الكاتب محمود سالم  لغز المدينة العائمة  روايات بوليسية   \n4  الكاتب محمود سالم       لغز المنزل رقم  روايات بوليسية   \n\n                                            Book_url Publishing_house  \\\n0  https://www.arab-books.com/books/%d9%83%d8%aa%...     مؤسسة هنداوي   \n1  https://www.arab-books.com/books/%d9%83%d8%aa%...     مؤسسة هنداوي   \n2  https://www.arab-books.com/books/%d9%83%d8%aa%...     مؤسسة هنداوي   \n3  https://www.arab-books.com/books/%d9%83%d8%aa%...     مؤسسة هنداوي   \n4  https://www.arab-books.com/books/%d9%83%d8%aa%...     مؤسسة هنداوي   \n\n   Book_size_MB  Book_pages  \n0           2.0        52.0  \n1           2.0        56.0  \n2           2.0        48.0  \n3           2.0        54.0  \n4           2.0        48.0  ",
      "text/html": "<div>\n<style scoped>\n    .dataframe tbody tr th:only-of-type {\n        vertical-align: middle;\n    }\n\n    .dataframe tbody tr th {\n        vertical-align: top;\n    }\n\n    .dataframe thead th {\n        text-align: right;\n    }\n</style>\n<table border=\"1\" class=\"dataframe\">\n  <thead>\n    <tr style=\"text-align: right;\">\n      <th></th>\n      <th>Author</th>\n      <th>Book_Name</th>\n      <th>Book_Category</th>\n      <th>Book_url</th>\n      <th>Publishing_house</th>\n      <th>Book_size_MB</th>\n      <th>Book_pages</th>\n    </tr>\n  </thead>\n  <tbody>\n    <tr>\n      <th>0</th>\n      <td>الكاتب محمود سالم</td>\n      <td>لغز القبر الملكي</td>\n      <td>روايات بوليسية</td>\n      <td>https://www.arab-books.com/books/%d9%83%d8%aa%...</td>\n      <td>مؤسسة هنداوي</td>\n      <td>2.0</td>\n      <td>52.0</td>\n    </tr>\n    <tr>\n      <th>1</th>\n      <td>الكاتب محمود سالم</td>\n      <td>لغز الكوخ المحترق</td>\n      <td>روايات بوليسية</td>\n      <td>https://www.arab-books.com/books/%d9%83%d8%aa%...</td>\n      <td>مؤسسة هنداوي</td>\n      <td>2.0</td>\n      <td>56.0</td>\n    </tr>\n    <tr>\n      <th>2</th>\n      <td>الكاتب محمود سالم</td>\n      <td>لغز اللص الشبح</td>\n      <td>روايات بوليسية</td>\n      <td>https://www.arab-books.com/books/%d9%83%d8%aa%...</td>\n      <td>مؤسسة هنداوي</td>\n      <td>2.0</td>\n      <td>48.0</td>\n    </tr>\n    <tr>\n      <th>3</th>\n      <td>الكاتب محمود سالم</td>\n      <td>لغز المدينة العائمة</td>\n      <td>روايات بوليسية</td>\n      <td>https://www.arab-books.com/books/%d9%83%d8%aa%...</td>\n      <td>مؤسسة هنداوي</td>\n      <td>2.0</td>\n      <td>54.0</td>\n    </tr>\n    <tr>\n      <th>4</th>\n      <td>الكاتب محمود سالم</td>\n      <td>لغز المنزل رقم</td>\n      <td>روايات بوليسية</td>\n      <td>https://www.arab-books.com/books/%d9%83%d8%aa%...</td>\n      <td>مؤسسة هنداوي</td>\n      <td>2.0</td>\n      <td>48.0</td>\n    </tr>\n  </tbody>\n</table>\n</div>"
     },
     "execution_count": 90,
     "metadata": {},
     "output_type": "execute_result"
    }
   ],
   "source": [
    "df1=df1[df.columns[:-1]]\n",
    "df1.head()"
   ],
   "metadata": {
    "collapsed": false,
    "pycharm": {
     "name": "#%%\n"
    }
   }
  },
  {
   "cell_type": "code",
   "execution_count": 91,
   "outputs": [
    {
     "data": {
      "text/plain": "كتب اسلامية                  1495\nكتب روايات عربية              855\nروايات بوليسية                621\nكتب الأدب العربي              417\nالعقيدة                       387\n                             ... \nكتب شعر مترجم                   1\nكتب أدب السجون                  1\nالرياضات المائية والتجديف       1\nعلوم الحاسب                     1\nكتب الجريمة                     1\nName: Book_Category, Length: 78, dtype: int64"
     },
     "execution_count": 91,
     "metadata": {},
     "output_type": "execute_result"
    }
   ],
   "source": [
    "df1['Book_Category'].value_counts()"
   ],
   "metadata": {
    "collapsed": false,
    "pycharm": {
     "name": "#%%\n"
    }
   }
  },
  {
   "cell_type": "code",
   "execution_count": 92,
   "outputs": [
    {
     "data": {
      "text/plain": "كتب الأدب العربي                   114\nكتب روايات عربية                    75\nكتب الروايات العالمية المترجمة      50\nكتب اسلامية                         35\nكتب التاريخ                         23\nكتب التاريخ القديم                  20\nكتب الفلسفة والمنطق                 13\nالثقافة العامة                       2\nكتب متنوعة                           2\nكتب أساطير                           1\nكتب المسرحيات العالمية المترجمة      1\nكتب العلوم الإنسانية                 1\nكتب التنمية الذاتية                  1\nكتب علم النفس                        1\nروايات بوليسية                       1\nكتب تطوير الذات                      1\nكتب التاريخ الحديث                   1\nالأدب                                1\nأعلام وشخصيات                        1\nكتب طبية                             1\nالعلوم السياسية والاستراتيجية        1\nكتب أدب السجون                       1\nكتب و دواوين الشعر العربي            1\nName: Book_Category, dtype: int64"
     },
     "execution_count": 92,
     "metadata": {},
     "output_type": "execute_result"
    }
   ],
   "source": [
    "df2[\"Book_Category\"].value_counts()"
   ],
   "metadata": {
    "collapsed": false,
    "pycharm": {
     "name": "#%%\n"
    }
   }
  },
  {
   "cell_type": "code",
   "execution_count": 145,
   "outputs": [],
   "source": [
    "#prepare the training for model 1\n",
    "x1_test=df1[df1[\"Book_Category\"].isna()][\"Book_Name\"].tolist()\n",
    "x1_train=df1[~(df1[\"Book_Category\"].isna())][\"Book_Name\"].tolist()\n",
    "y1_train=df1[~(df1[\"Book_Category\"].isna())][\"Book_Category\"].tolist()"
   ],
   "metadata": {
    "collapsed": false,
    "pycharm": {
     "name": "#%%\n"
    }
   }
  },
  {
   "cell_type": "code",
   "execution_count": 141,
   "outputs": [],
   "source": [
    "from sklearn.feature_extraction.text import TfidfVectorizer\n",
    "from sklearn.linear_model import LogisticRegression\n",
    "from sklearn.pipeline import Pipeline"
   ],
   "metadata": {
    "collapsed": false,
    "pycharm": {
     "name": "#%%\n"
    }
   }
  },
  {
   "cell_type": "code",
   "execution_count": 149,
   "outputs": [],
   "source": [
    "pipe=Pipeline([(\"Vector\",TfidfVectorizer(encoding='utf-8-sig',lowercase=False)),(\"Model\",LogisticRegression(max_iter=2000))])"
   ],
   "metadata": {
    "collapsed": false,
    "pycharm": {
     "name": "#%%\n"
    }
   }
  },
  {
   "cell_type": "code",
   "execution_count": 150,
   "outputs": [
    {
     "data": {
      "text/plain": "Pipeline(steps=[('Vector',\n                 TfidfVectorizer(encoding='utf-8-sig', lowercase=False)),\n                ('Model', LogisticRegression(max_iter=2000))])"
     },
     "execution_count": 150,
     "metadata": {},
     "output_type": "execute_result"
    }
   ],
   "source": [
    "pipe.fit(x1_train,y1_train)"
   ],
   "metadata": {
    "collapsed": false,
    "pycharm": {
     "name": "#%%\n"
    }
   }
  },
  {
   "cell_type": "code",
   "execution_count": 151,
   "outputs": [
    {
     "data": {
      "text/plain": "0.5891994731450315"
     },
     "execution_count": 151,
     "metadata": {},
     "output_type": "execute_result"
    }
   ],
   "source": [
    "pipe.score(x1_train,y1_train)"
   ],
   "metadata": {
    "collapsed": false,
    "pycharm": {
     "name": "#%%\n"
    }
   }
  },
  {
   "cell_type": "code",
   "execution_count": null,
   "outputs": [],
   "source": [],
   "metadata": {
    "collapsed": false,
    "pycharm": {
     "name": "#%%\n"
    }
   }
  }
 ],
 "metadata": {
  "kernelspec": {
   "display_name": "Python 3",
   "language": "python",
   "name": "python3"
  },
  "language_info": {
   "codemirror_mode": {
    "name": "ipython",
    "version": 2
   },
   "file_extension": ".py",
   "mimetype": "text/x-python",
   "name": "python",
   "nbconvert_exporter": "python",
   "pygments_lexer": "ipython2",
   "version": "2.7.6"
  }
 },
 "nbformat": 4,
 "nbformat_minor": 0
}